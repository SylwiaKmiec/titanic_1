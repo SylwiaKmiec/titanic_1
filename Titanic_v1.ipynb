{
 "cells": [
  {
   "cell_type": "code",
   "execution_count": 1,
   "id": "75c1dad1",
   "metadata": {},
   "outputs": [],
   "source": [
    "import numpy as np\n",
    "import pandas as pd\n",
    "import seaborn as sns\n",
    "import matplotlib.pyplot as plt\n",
    "%matplotlib inline\n",
    "from pylab import rcParams\n",
    "rcParams['figure.figsize'] = 7,4\n",
    "\n",
    "import warnings\n",
    "warnings.filterwarnings('ignore') "
   ]
  },
  {
   "cell_type": "code",
   "execution_count": 2,
   "id": "dcb24761",
   "metadata": {},
   "outputs": [],
   "source": [
    "df_train = pd.read_csv('train.csv')\n",
    "df_test = pd.read_csv('test.csv')"
   ]
  },
  {
   "cell_type": "code",
   "execution_count": 3,
   "id": "95ca744c",
   "metadata": {},
   "outputs": [
    {
     "data": {
      "text/html": [
       "<div>\n",
       "<style scoped>\n",
       "    .dataframe tbody tr th:only-of-type {\n",
       "        vertical-align: middle;\n",
       "    }\n",
       "\n",
       "    .dataframe tbody tr th {\n",
       "        vertical-align: top;\n",
       "    }\n",
       "\n",
       "    .dataframe thead th {\n",
       "        text-align: right;\n",
       "    }\n",
       "</style>\n",
       "<table border=\"1\" class=\"dataframe\">\n",
       "  <thead>\n",
       "    <tr style=\"text-align: right;\">\n",
       "      <th></th>\n",
       "      <th>PassengerId</th>\n",
       "      <th>Survived</th>\n",
       "      <th>Pclass</th>\n",
       "      <th>Name</th>\n",
       "      <th>Sex</th>\n",
       "      <th>Age</th>\n",
       "      <th>SibSp</th>\n",
       "      <th>Parch</th>\n",
       "      <th>Ticket</th>\n",
       "      <th>Fare</th>\n",
       "      <th>Cabin</th>\n",
       "      <th>Embarked</th>\n",
       "    </tr>\n",
       "  </thead>\n",
       "  <tbody>\n",
       "    <tr>\n",
       "      <th>0</th>\n",
       "      <td>1</td>\n",
       "      <td>0</td>\n",
       "      <td>3</td>\n",
       "      <td>Braund, Mr. Owen Harris</td>\n",
       "      <td>male</td>\n",
       "      <td>22.0</td>\n",
       "      <td>1</td>\n",
       "      <td>0</td>\n",
       "      <td>A/5 21171</td>\n",
       "      <td>7.2500</td>\n",
       "      <td>NaN</td>\n",
       "      <td>S</td>\n",
       "    </tr>\n",
       "    <tr>\n",
       "      <th>1</th>\n",
       "      <td>2</td>\n",
       "      <td>1</td>\n",
       "      <td>1</td>\n",
       "      <td>Cumings, Mrs. John Bradley (Florence Briggs Th...</td>\n",
       "      <td>female</td>\n",
       "      <td>38.0</td>\n",
       "      <td>1</td>\n",
       "      <td>0</td>\n",
       "      <td>PC 17599</td>\n",
       "      <td>71.2833</td>\n",
       "      <td>C85</td>\n",
       "      <td>C</td>\n",
       "    </tr>\n",
       "    <tr>\n",
       "      <th>2</th>\n",
       "      <td>3</td>\n",
       "      <td>1</td>\n",
       "      <td>3</td>\n",
       "      <td>Heikkinen, Miss. Laina</td>\n",
       "      <td>female</td>\n",
       "      <td>26.0</td>\n",
       "      <td>0</td>\n",
       "      <td>0</td>\n",
       "      <td>STON/O2. 3101282</td>\n",
       "      <td>7.9250</td>\n",
       "      <td>NaN</td>\n",
       "      <td>S</td>\n",
       "    </tr>\n",
       "    <tr>\n",
       "      <th>3</th>\n",
       "      <td>4</td>\n",
       "      <td>1</td>\n",
       "      <td>1</td>\n",
       "      <td>Futrelle, Mrs. Jacques Heath (Lily May Peel)</td>\n",
       "      <td>female</td>\n",
       "      <td>35.0</td>\n",
       "      <td>1</td>\n",
       "      <td>0</td>\n",
       "      <td>113803</td>\n",
       "      <td>53.1000</td>\n",
       "      <td>C123</td>\n",
       "      <td>S</td>\n",
       "    </tr>\n",
       "    <tr>\n",
       "      <th>4</th>\n",
       "      <td>5</td>\n",
       "      <td>0</td>\n",
       "      <td>3</td>\n",
       "      <td>Allen, Mr. William Henry</td>\n",
       "      <td>male</td>\n",
       "      <td>35.0</td>\n",
       "      <td>0</td>\n",
       "      <td>0</td>\n",
       "      <td>373450</td>\n",
       "      <td>8.0500</td>\n",
       "      <td>NaN</td>\n",
       "      <td>S</td>\n",
       "    </tr>\n",
       "  </tbody>\n",
       "</table>\n",
       "</div>"
      ],
      "text/plain": [
       "   PassengerId  Survived  Pclass  \\\n",
       "0            1         0       3   \n",
       "1            2         1       1   \n",
       "2            3         1       3   \n",
       "3            4         1       1   \n",
       "4            5         0       3   \n",
       "\n",
       "                                                Name     Sex   Age  SibSp  \\\n",
       "0                            Braund, Mr. Owen Harris    male  22.0      1   \n",
       "1  Cumings, Mrs. John Bradley (Florence Briggs Th...  female  38.0      1   \n",
       "2                             Heikkinen, Miss. Laina  female  26.0      0   \n",
       "3       Futrelle, Mrs. Jacques Heath (Lily May Peel)  female  35.0      1   \n",
       "4                           Allen, Mr. William Henry    male  35.0      0   \n",
       "\n",
       "   Parch            Ticket     Fare Cabin Embarked  \n",
       "0      0         A/5 21171   7.2500   NaN        S  \n",
       "1      0          PC 17599  71.2833   C85        C  \n",
       "2      0  STON/O2. 3101282   7.9250   NaN        S  \n",
       "3      0            113803  53.1000  C123        S  \n",
       "4      0            373450   8.0500   NaN        S  "
      ]
     },
     "execution_count": 3,
     "metadata": {},
     "output_type": "execute_result"
    }
   ],
   "source": [
    "df_train.head()"
   ]
  },
  {
   "cell_type": "code",
   "execution_count": 4,
   "id": "302ad5e8",
   "metadata": {},
   "outputs": [
    {
     "data": {
      "text/plain": [
       "(891, 12)"
      ]
     },
     "execution_count": 4,
     "metadata": {},
     "output_type": "execute_result"
    }
   ],
   "source": [
    "df_train.shape"
   ]
  },
  {
   "cell_type": "code",
   "execution_count": 5,
   "id": "0791dff5",
   "metadata": {},
   "outputs": [
    {
     "name": "stdout",
     "output_type": "stream",
     "text": [
      "<class 'pandas.core.frame.DataFrame'>\n",
      "RangeIndex: 891 entries, 0 to 890\n",
      "Data columns (total 12 columns):\n",
      " #   Column       Non-Null Count  Dtype  \n",
      "---  ------       --------------  -----  \n",
      " 0   PassengerId  891 non-null    int64  \n",
      " 1   Survived     891 non-null    int64  \n",
      " 2   Pclass       891 non-null    int64  \n",
      " 3   Name         891 non-null    object \n",
      " 4   Sex          891 non-null    object \n",
      " 5   Age          714 non-null    float64\n",
      " 6   SibSp        891 non-null    int64  \n",
      " 7   Parch        891 non-null    int64  \n",
      " 8   Ticket       891 non-null    object \n",
      " 9   Fare         891 non-null    float64\n",
      " 10  Cabin        204 non-null    object \n",
      " 11  Embarked     889 non-null    object \n",
      "dtypes: float64(2), int64(5), object(5)\n",
      "memory usage: 83.7+ KB\n"
     ]
    }
   ],
   "source": [
    "df_train.info()"
   ]
  },
  {
   "cell_type": "markdown",
   "id": "d8523a65",
   "metadata": {},
   "source": [
    "Review basic statistics for numeric data:"
   ]
  },
  {
   "cell_type": "code",
   "execution_count": 6,
   "id": "619db3f8",
   "metadata": {},
   "outputs": [
    {
     "data": {
      "text/html": [
       "<div>\n",
       "<style scoped>\n",
       "    .dataframe tbody tr th:only-of-type {\n",
       "        vertical-align: middle;\n",
       "    }\n",
       "\n",
       "    .dataframe tbody tr th {\n",
       "        vertical-align: top;\n",
       "    }\n",
       "\n",
       "    .dataframe thead th {\n",
       "        text-align: right;\n",
       "    }\n",
       "</style>\n",
       "<table border=\"1\" class=\"dataframe\">\n",
       "  <thead>\n",
       "    <tr style=\"text-align: right;\">\n",
       "      <th></th>\n",
       "      <th>PassengerId</th>\n",
       "      <th>Survived</th>\n",
       "      <th>Pclass</th>\n",
       "      <th>Age</th>\n",
       "      <th>SibSp</th>\n",
       "      <th>Parch</th>\n",
       "      <th>Fare</th>\n",
       "    </tr>\n",
       "  </thead>\n",
       "  <tbody>\n",
       "    <tr>\n",
       "      <th>count</th>\n",
       "      <td>891.000000</td>\n",
       "      <td>891.000000</td>\n",
       "      <td>891.000000</td>\n",
       "      <td>714.000000</td>\n",
       "      <td>891.000000</td>\n",
       "      <td>891.000000</td>\n",
       "      <td>891.000000</td>\n",
       "    </tr>\n",
       "    <tr>\n",
       "      <th>mean</th>\n",
       "      <td>446.000000</td>\n",
       "      <td>0.383838</td>\n",
       "      <td>2.308642</td>\n",
       "      <td>29.699118</td>\n",
       "      <td>0.523008</td>\n",
       "      <td>0.381594</td>\n",
       "      <td>32.204208</td>\n",
       "    </tr>\n",
       "    <tr>\n",
       "      <th>std</th>\n",
       "      <td>257.353842</td>\n",
       "      <td>0.486592</td>\n",
       "      <td>0.836071</td>\n",
       "      <td>14.526497</td>\n",
       "      <td>1.102743</td>\n",
       "      <td>0.806057</td>\n",
       "      <td>49.693429</td>\n",
       "    </tr>\n",
       "    <tr>\n",
       "      <th>min</th>\n",
       "      <td>1.000000</td>\n",
       "      <td>0.000000</td>\n",
       "      <td>1.000000</td>\n",
       "      <td>0.420000</td>\n",
       "      <td>0.000000</td>\n",
       "      <td>0.000000</td>\n",
       "      <td>0.000000</td>\n",
       "    </tr>\n",
       "    <tr>\n",
       "      <th>25%</th>\n",
       "      <td>223.500000</td>\n",
       "      <td>0.000000</td>\n",
       "      <td>2.000000</td>\n",
       "      <td>20.125000</td>\n",
       "      <td>0.000000</td>\n",
       "      <td>0.000000</td>\n",
       "      <td>7.910400</td>\n",
       "    </tr>\n",
       "    <tr>\n",
       "      <th>50%</th>\n",
       "      <td>446.000000</td>\n",
       "      <td>0.000000</td>\n",
       "      <td>3.000000</td>\n",
       "      <td>28.000000</td>\n",
       "      <td>0.000000</td>\n",
       "      <td>0.000000</td>\n",
       "      <td>14.454200</td>\n",
       "    </tr>\n",
       "    <tr>\n",
       "      <th>75%</th>\n",
       "      <td>668.500000</td>\n",
       "      <td>1.000000</td>\n",
       "      <td>3.000000</td>\n",
       "      <td>38.000000</td>\n",
       "      <td>1.000000</td>\n",
       "      <td>0.000000</td>\n",
       "      <td>31.000000</td>\n",
       "    </tr>\n",
       "    <tr>\n",
       "      <th>max</th>\n",
       "      <td>891.000000</td>\n",
       "      <td>1.000000</td>\n",
       "      <td>3.000000</td>\n",
       "      <td>80.000000</td>\n",
       "      <td>8.000000</td>\n",
       "      <td>6.000000</td>\n",
       "      <td>512.329200</td>\n",
       "    </tr>\n",
       "  </tbody>\n",
       "</table>\n",
       "</div>"
      ],
      "text/plain": [
       "       PassengerId    Survived      Pclass         Age       SibSp  \\\n",
       "count   891.000000  891.000000  891.000000  714.000000  891.000000   \n",
       "mean    446.000000    0.383838    2.308642   29.699118    0.523008   \n",
       "std     257.353842    0.486592    0.836071   14.526497    1.102743   \n",
       "min       1.000000    0.000000    1.000000    0.420000    0.000000   \n",
       "25%     223.500000    0.000000    2.000000   20.125000    0.000000   \n",
       "50%     446.000000    0.000000    3.000000   28.000000    0.000000   \n",
       "75%     668.500000    1.000000    3.000000   38.000000    1.000000   \n",
       "max     891.000000    1.000000    3.000000   80.000000    8.000000   \n",
       "\n",
       "            Parch        Fare  \n",
       "count  891.000000  891.000000  \n",
       "mean     0.381594   32.204208  \n",
       "std      0.806057   49.693429  \n",
       "min      0.000000    0.000000  \n",
       "25%      0.000000    7.910400  \n",
       "50%      0.000000   14.454200  \n",
       "75%      0.000000   31.000000  \n",
       "max      6.000000  512.329200  "
      ]
     },
     "execution_count": 6,
     "metadata": {},
     "output_type": "execute_result"
    }
   ],
   "source": [
    "df_train.describe()"
   ]
  },
  {
   "cell_type": "markdown",
   "id": "a9c8672e",
   "metadata": {},
   "source": [
    "Review of basic statistics on categorical data:"
   ]
  },
  {
   "cell_type": "code",
   "execution_count": 7,
   "id": "1d442546",
   "metadata": {},
   "outputs": [
    {
     "data": {
      "text/html": [
       "<div>\n",
       "<style scoped>\n",
       "    .dataframe tbody tr th:only-of-type {\n",
       "        vertical-align: middle;\n",
       "    }\n",
       "\n",
       "    .dataframe tbody tr th {\n",
       "        vertical-align: top;\n",
       "    }\n",
       "\n",
       "    .dataframe thead th {\n",
       "        text-align: right;\n",
       "    }\n",
       "</style>\n",
       "<table border=\"1\" class=\"dataframe\">\n",
       "  <thead>\n",
       "    <tr style=\"text-align: right;\">\n",
       "      <th></th>\n",
       "      <th>Name</th>\n",
       "      <th>Sex</th>\n",
       "      <th>Ticket</th>\n",
       "      <th>Cabin</th>\n",
       "      <th>Embarked</th>\n",
       "    </tr>\n",
       "  </thead>\n",
       "  <tbody>\n",
       "    <tr>\n",
       "      <th>count</th>\n",
       "      <td>891</td>\n",
       "      <td>891</td>\n",
       "      <td>891</td>\n",
       "      <td>204</td>\n",
       "      <td>889</td>\n",
       "    </tr>\n",
       "    <tr>\n",
       "      <th>unique</th>\n",
       "      <td>891</td>\n",
       "      <td>2</td>\n",
       "      <td>681</td>\n",
       "      <td>147</td>\n",
       "      <td>3</td>\n",
       "    </tr>\n",
       "    <tr>\n",
       "      <th>top</th>\n",
       "      <td>Braund, Mr. Owen Harris</td>\n",
       "      <td>male</td>\n",
       "      <td>347082</td>\n",
       "      <td>B96 B98</td>\n",
       "      <td>S</td>\n",
       "    </tr>\n",
       "    <tr>\n",
       "      <th>freq</th>\n",
       "      <td>1</td>\n",
       "      <td>577</td>\n",
       "      <td>7</td>\n",
       "      <td>4</td>\n",
       "      <td>644</td>\n",
       "    </tr>\n",
       "  </tbody>\n",
       "</table>\n",
       "</div>"
      ],
      "text/plain": [
       "                           Name   Sex  Ticket    Cabin Embarked\n",
       "count                       891   891     891      204      889\n",
       "unique                      891     2     681      147        3\n",
       "top     Braund, Mr. Owen Harris  male  347082  B96 B98        S\n",
       "freq                          1   577       7        4      644"
      ]
     },
     "execution_count": 7,
     "metadata": {},
     "output_type": "execute_result"
    }
   ],
   "source": [
    "df_train.describe(include='object')"
   ]
  },
  {
   "cell_type": "markdown",
   "id": "cdaa5def",
   "metadata": {},
   "source": [
    "Plotting numerical variables:"
   ]
  },
  {
   "cell_type": "code",
   "execution_count": 8,
   "id": "77ee2cae",
   "metadata": {},
   "outputs": [
    {
     "data": {
      "image/png": "[encoded data removed]",
      "text/plain": [
       "<Figure size 504x288 with 1 Axes>"
      ]
     },
     "metadata": {},
     "output_type": "display_data"
    }
   ],
   "source": [
    "sns.set(style='whitegrid')\n",
    "sns.stripplot(data=df_train, x='Survived', y='Fare', palette='mako')\n",
    "plt.title('Survival based on the Ticket Price', fontsize=17)\n",
    "plt.show()\n"
   ]
  },
  {
   "cell_type": "markdown",
   "id": "025b47a4",
   "metadata": {},
   "source": [
    "We can see that people who paid more than 100 funds for the ride were more likely to survive."
   ]
  },
  {
   "cell_type": "code",
   "execution_count": 9,
   "id": "28c48573",
   "metadata": {},
   "outputs": [
    {
     "data": {
      "image/png": "[encoded data removed]",
      "text/plain": [
       "<Figure size 504x288 with 1 Axes>"
      ]
     },
     "metadata": {},
     "output_type": "display_data"
    }
   ],
   "source": [
    "sns.set(style='whitegrid')\n",
    "sns.kdeplot(data = df_train, x = 'Age', hue = 'Survived', palette='mako')\n",
    "plt.title('Survival based on Age', fontsize=18)\n",
    "plt.show()"
   ]
  },
  {
   "cell_type": "code",
   "execution_count": 10,
   "id": "d2c5fd42",
   "metadata": {},
   "outputs": [
    {
     "data": {
      "image/png": "[encoded data removed]",
      "text/plain": [
       "<Figure size 504x288 with 1 Axes>"
      ]
     },
     "metadata": {},
     "output_type": "display_data"
    }
   ],
   "source": [
    "sns.set(style='whitegrid')\n",
    "a = sns.countplot(x ='Sex', hue = 'Survived', data = df_train, palette='mako')\n",
    "plt.title('Survival based on Sex', fontsize=18)\n",
    "plt.show()"
   ]
  },
  {
   "cell_type": "markdown",
   "id": "521501fc",
   "metadata": {},
   "source": [
    "Women had a better chance of survival."
   ]
  },
  {
   "cell_type": "code",
   "execution_count": 11,
   "id": "de83db94",
   "metadata": {},
   "outputs": [
    {
     "data": {
      "image/png": "[encoded data removed]",
      "text/plain": [
       "<Figure size 504x288 with 1 Axes>"
      ]
     },
     "metadata": {},
     "output_type": "display_data"
    }
   ],
   "source": [
    "sns.set(style='whitegrid')\n",
    "sns.countplot(x=\"Survived\", hue=\"Pclass\", data=df_train, palette='mako')\n",
    "plt.title('Survival based on Ticket Class', fontsize=18)\n",
    "plt.show()"
   ]
  },
  {
   "cell_type": "markdown",
   "id": "bec6a411",
   "metadata": {},
   "source": [
    "More survivors had a first-class ticket."
   ]
  },
  {
   "cell_type": "code",
   "execution_count": 12,
   "id": "f998aa1a",
   "metadata": {},
   "outputs": [
    {
     "data": {
      "text/plain": [
       "Text(0.5, 1.0, 'Survival probability based on the size of family')"
      ]
     },
     "execution_count": 12,
     "metadata": {},
     "output_type": "execute_result"
    },
    {
     "data": {
      "image/png": "[encoded data removed]",
      "text/plain": [
       "<Figure size 360x360 with 1 Axes>"
      ]
     },
     "metadata": {},
     "output_type": "display_data"
    }
   ],
   "source": [
    "ax = sns.catplot(x = 'SibSp', y = 'Survived', data = df_train, kind = 'bar', palette='mako')\n",
    "ax.set(xlabel=\"Number of Siblings\", ylabel = \"Survival Probability\")\n",
    "plt.title('Survival probability based on the size of family', fontsize=18)"
   ]
  },
  {
   "cell_type": "markdown",
   "id": "c6445812",
   "metadata": {},
   "source": [
    "Passengers with one or two siblings or spouses did the best. Passengers with none or more than 3 did worse.<br>\n",
    "\n",
    "Parch is number of parents or children on board"
   ]
  },
  {
   "cell_type": "code",
   "execution_count": 13,
   "id": "824fec91",
   "metadata": {},
   "outputs": [
    {
     "data": {
      "image/png": "[encoded data removed]",
      "text/plain": [
       "<Figure size 504x288 with 1 Axes>"
      ]
     },
     "metadata": {},
     "output_type": "display_data"
    }
   ],
   "source": [
    "bins = [0, 5, 12, 18, 24, 35, 60, np.inf]\n",
    "labels = ['Baby', 'Child', 'Teenager', 'Student', 'Young Adult', 'Adult', 'Senior']\n",
    "df_train['AgeGroup'] = pd.cut(df_train[\"Age\"], bins, labels = labels)\n",
    "\n",
    "ax=sns.barplot(x=\"AgeGroup\", y=\"Survived\", data=df_train, palette='mako')\n",
    "ax.set(xlabel=\"Age Group\", ylabel = \"Survival Probability\")\n",
    "plt.title('Survival based on the Age Group', fontsize=18)\n",
    "plt.show()"
   ]
  },
  {
   "cell_type": "code",
   "execution_count": 14,
   "id": "e0e89170",
   "metadata": {},
   "outputs": [
    {
     "data": {
      "image/png": "[encoded data removed]",
      "text/plain": [
       "<Figure size 1296x720 with 2 Axes>"
      ]
     },
     "metadata": {},
     "output_type": "display_data"
    }
   ],
   "source": [
    "plt.figure(figsize = (18,10))     \n",
    "mask = np.triu(np.ones_like(df_train.corr(method = \"pearson\"), dtype=np.bool))\n",
    "heatmap = sns.heatmap(df_train.corr(),vmin=-1, vmax=1, mask = mask, annot = True, cmap='mako')\n",
    "heatmap.set_title('Triangle Correlation Heatmap', fontdict={'fontsize':26}, pad=16);"
   ]
  },
  {
   "cell_type": "markdown",
   "id": "343de870",
   "metadata": {},
   "source": [
    "### Missing values"
   ]
  },
  {
   "cell_type": "code",
   "execution_count": 15,
   "id": "87356289",
   "metadata": {},
   "outputs": [
    {
     "data": {
      "text/plain": [
       "PassengerId      0\n",
       "Survived         0\n",
       "Pclass           0\n",
       "Name             0\n",
       "Sex              0\n",
       "Age            177\n",
       "SibSp            0\n",
       "Parch            0\n",
       "Ticket           0\n",
       "Fare             0\n",
       "Cabin          687\n",
       "Embarked         2\n",
       "AgeGroup       177\n",
       "dtype: int64"
      ]
     },
     "execution_count": 15,
     "metadata": {},
     "output_type": "execute_result"
    }
   ],
   "source": [
    "df_train.isnull().sum()"
   ]
  },
  {
   "cell_type": "markdown",
   "id": "65740d74",
   "metadata": {},
   "source": [
    "Before making decision what to do with the missing values (replace, remove, etc) I would like to take a look closer at them and see if any of these features maybe redundand for our analysis."
   ]
  },
  {
   "cell_type": "code",
   "execution_count": 16,
   "id": "d63ce35a",
   "metadata": {},
   "outputs": [
    {
     "name": "stdout",
     "output_type": "stream",
     "text": [
      "1      1\n",
      "599    1\n",
      "588    1\n",
      "589    1\n",
      "590    1\n",
      "      ..\n",
      "301    1\n",
      "302    1\n",
      "303    1\n",
      "304    1\n",
      "891    1\n",
      "Name: PassengerId, Length: 891, dtype: int64\n",
      "\n",
      "0    549\n",
      "1    342\n",
      "Name: Survived, dtype: int64\n",
      "\n",
      "3    491\n",
      "1    216\n",
      "2    184\n",
      "Name: Pclass, dtype: int64\n",
      "\n",
      "Braund, Mr. Owen Harris                     1\n",
      "Boulos, Mr. Hanna                           1\n",
      "Frolicher-Stehli, Mr. Maxmillian            1\n",
      "Gilinski, Mr. Eliezer                       1\n",
      "Murdlin, Mr. Joseph                         1\n",
      "                                           ..\n",
      "Kelly, Miss. Anna Katherine \"Annie Kate\"    1\n",
      "McCoy, Mr. Bernard                          1\n",
      "Johnson, Mr. William Cahoone Jr             1\n",
      "Keane, Miss. Nora A                         1\n",
      "Dooley, Mr. Patrick                         1\n",
      "Name: Name, Length: 891, dtype: int64\n",
      "\n",
      "male      577\n",
      "female    314\n",
      "Name: Sex, dtype: int64\n",
      "\n",
      "24.00    30\n",
      "22.00    27\n",
      "18.00    26\n",
      "19.00    25\n",
      "28.00    25\n",
      "         ..\n",
      "36.50     1\n",
      "55.50     1\n",
      "0.92      1\n",
      "23.50     1\n",
      "74.00     1\n",
      "Name: Age, Length: 88, dtype: int64\n",
      "\n",
      "0    608\n",
      "1    209\n",
      "2     28\n",
      "4     18\n",
      "3     16\n",
      "8      7\n",
      "5      5\n",
      "Name: SibSp, dtype: int64\n",
      "\n",
      "0    678\n",
      "1    118\n",
      "2     80\n",
      "5      5\n",
      "3      5\n",
      "4      4\n",
      "6      1\n",
      "Name: Parch, dtype: int64\n",
      "\n",
      "347082      7\n",
      "CA. 2343    7\n",
      "1601        7\n",
      "3101295     6\n",
      "CA 2144     6\n",
      "           ..\n",
      "9234        1\n",
      "19988       1\n",
      "2693        1\n",
      "PC 17612    1\n",
      "370376      1\n",
      "Name: Ticket, Length: 681, dtype: int64\n",
      "\n",
      "8.0500     43\n",
      "13.0000    42\n",
      "7.8958     38\n",
      "7.7500     34\n",
      "26.0000    31\n",
      "           ..\n",
      "35.0000     1\n",
      "28.5000     1\n",
      "6.2375      1\n",
      "14.0000     1\n",
      "10.5167     1\n",
      "Name: Fare, Length: 248, dtype: int64\n",
      "\n",
      "B96 B98        4\n",
      "G6             4\n",
      "C23 C25 C27    4\n",
      "C22 C26        3\n",
      "F33            3\n",
      "              ..\n",
      "E34            1\n",
      "C7             1\n",
      "C54            1\n",
      "E36            1\n",
      "C148           1\n",
      "Name: Cabin, Length: 147, dtype: int64\n",
      "\n",
      "S    644\n",
      "C    168\n",
      "Q     77\n",
      "Name: Embarked, dtype: int64\n",
      "\n",
      "Young Adult    220\n",
      "Adult          195\n",
      "Student        138\n",
      "Teenager        70\n",
      "Baby            44\n",
      "Child           25\n",
      "Senior          22\n",
      "Name: AgeGroup, dtype: int64\n",
      "\n"
     ]
    }
   ],
   "source": [
    "for val in df_train:\n",
    "    print(df_train[val].value_counts())\n",
    "    print()"
   ]
  },
  {
   "cell_type": "code",
   "execution_count": 17,
   "id": "384fb63e",
   "metadata": {},
   "outputs": [
    {
     "data": {
      "text/html": [
       "<div>\n",
       "<style scoped>\n",
       "    .dataframe tbody tr th:only-of-type {\n",
       "        vertical-align: middle;\n",
       "    }\n",
       "\n",
       "    .dataframe tbody tr th {\n",
       "        vertical-align: top;\n",
       "    }\n",
       "\n",
       "    .dataframe thead th {\n",
       "        text-align: right;\n",
       "    }\n",
       "</style>\n",
       "<table border=\"1\" class=\"dataframe\">\n",
       "  <thead>\n",
       "    <tr style=\"text-align: right;\">\n",
       "      <th></th>\n",
       "      <th>PassengerId</th>\n",
       "      <th>Survived</th>\n",
       "      <th>Pclass</th>\n",
       "      <th>Sex</th>\n",
       "      <th>Age</th>\n",
       "      <th>SibSp</th>\n",
       "      <th>Parch</th>\n",
       "      <th>Fare</th>\n",
       "      <th>Embarked</th>\n",
       "    </tr>\n",
       "  </thead>\n",
       "  <tbody>\n",
       "    <tr>\n",
       "      <th>0</th>\n",
       "      <td>1</td>\n",
       "      <td>0</td>\n",
       "      <td>3</td>\n",
       "      <td>male</td>\n",
       "      <td>22.0</td>\n",
       "      <td>1</td>\n",
       "      <td>0</td>\n",
       "      <td>7.2500</td>\n",
       "      <td>S</td>\n",
       "    </tr>\n",
       "    <tr>\n",
       "      <th>1</th>\n",
       "      <td>2</td>\n",
       "      <td>1</td>\n",
       "      <td>1</td>\n",
       "      <td>female</td>\n",
       "      <td>38.0</td>\n",
       "      <td>1</td>\n",
       "      <td>0</td>\n",
       "      <td>71.2833</td>\n",
       "      <td>C</td>\n",
       "    </tr>\n",
       "    <tr>\n",
       "      <th>2</th>\n",
       "      <td>3</td>\n",
       "      <td>1</td>\n",
       "      <td>3</td>\n",
       "      <td>female</td>\n",
       "      <td>26.0</td>\n",
       "      <td>0</td>\n",
       "      <td>0</td>\n",
       "      <td>7.9250</td>\n",
       "      <td>S</td>\n",
       "    </tr>\n",
       "    <tr>\n",
       "      <th>3</th>\n",
       "      <td>4</td>\n",
       "      <td>1</td>\n",
       "      <td>1</td>\n",
       "      <td>female</td>\n",
       "      <td>35.0</td>\n",
       "      <td>1</td>\n",
       "      <td>0</td>\n",
       "      <td>53.1000</td>\n",
       "      <td>S</td>\n",
       "    </tr>\n",
       "    <tr>\n",
       "      <th>4</th>\n",
       "      <td>5</td>\n",
       "      <td>0</td>\n",
       "      <td>3</td>\n",
       "      <td>male</td>\n",
       "      <td>35.0</td>\n",
       "      <td>0</td>\n",
       "      <td>0</td>\n",
       "      <td>8.0500</td>\n",
       "      <td>S</td>\n",
       "    </tr>\n",
       "  </tbody>\n",
       "</table>\n",
       "</div>"
      ],
      "text/plain": [
       "   PassengerId  Survived  Pclass     Sex   Age  SibSp  Parch     Fare Embarked\n",
       "0            1         0       3    male  22.0      1      0   7.2500        S\n",
       "1            2         1       1  female  38.0      1      0  71.2833        C\n",
       "2            3         1       3  female  26.0      0      0   7.9250        S\n",
       "3            4         1       1  female  35.0      1      0  53.1000        S\n",
       "4            5         0       3    male  35.0      0      0   8.0500        S"
      ]
     },
     "execution_count": 17,
     "metadata": {},
     "output_type": "execute_result"
    }
   ],
   "source": [
    "df = df_train.drop(['Cabin', 'Ticket', 'Name', 'AgeGroup'], axis=1)\n",
    "df.head()"
   ]
  },
  {
   "cell_type": "markdown",
   "id": "61895a15",
   "metadata": {},
   "source": [
    "I do not want to remove the rows with missing age due to the fact that the dataset is not large, the sample not big enough in my opinion. I would rather go ahead and replace missing value wiht average age of the passangers. "
   ]
  },
  {
   "cell_type": "code",
   "execution_count": 18,
   "id": "98fa09a9",
   "metadata": {},
   "outputs": [
    {
     "data": {
      "text/plain": [
       "PassengerId      0\n",
       "Survived         0\n",
       "Pclass           0\n",
       "Sex              0\n",
       "Age            177\n",
       "SibSp            0\n",
       "Parch            0\n",
       "Fare             0\n",
       "Embarked         2\n",
       "dtype: int64"
      ]
     },
     "execution_count": 18,
     "metadata": {},
     "output_type": "execute_result"
    }
   ],
   "source": [
    "df.isnull().sum()"
   ]
  },
  {
   "cell_type": "code",
   "execution_count": 19,
   "id": "8787d2c2",
   "metadata": {},
   "outputs": [
    {
     "data": {
      "text/plain": [
       "count    714.000000\n",
       "mean      29.699118\n",
       "std       14.526497\n",
       "min        0.420000\n",
       "25%       20.125000\n",
       "50%       28.000000\n",
       "75%       38.000000\n",
       "max       80.000000\n",
       "Name: Age, dtype: float64"
      ]
     },
     "execution_count": 19,
     "metadata": {},
     "output_type": "execute_result"
    }
   ],
   "source": [
    "df['Age'].describe()"
   ]
  },
  {
   "cell_type": "code",
   "execution_count": 20,
   "id": "4898116e",
   "metadata": {},
   "outputs": [
    {
     "data": {
      "text/plain": [
       "0    24.0\n",
       "dtype: float64"
      ]
     },
     "execution_count": 20,
     "metadata": {},
     "output_type": "execute_result"
    }
   ],
   "source": [
    "df['Age'].mode()"
   ]
  },
  {
   "cell_type": "code",
   "execution_count": 21,
   "id": "c89a441d",
   "metadata": {},
   "outputs": [
    {
     "data": {
      "text/plain": [
       "Text(0.5, 1.0, 'Distribution of Age')"
      ]
     },
     "execution_count": 21,
     "metadata": {},
     "output_type": "execute_result"
    },
    {
     "data": {
      "image/png": "[encoded data removed]",
      "text/plain": [
       "<Figure size 504x288 with 1 Axes>"
      ]
     },
     "metadata": {},
     "output_type": "display_data"
    }
   ],
   "source": [
    "sns.boxplot(df['Age'], palette='mako')\n",
    "plt.title('Distribution of Age')"
   ]
  },
  {
   "cell_type": "markdown",
   "id": "54c876db",
   "metadata": {},
   "source": [
    "I have checked above if the mean and mode are close enough, it looks like the most people on board had age close to the average. Therefore is safe to say that the missing values could be of an age of avg. <br> Therefore I am replacing missing values with mean.<br>\n",
    "Also removing two observations with missing data in column 'Embarked'."
   ]
  },
  {
   "cell_type": "code",
   "execution_count": 22,
   "id": "d9dc1200",
   "metadata": {},
   "outputs": [],
   "source": [
    "df = df.fillna(df_train.mean())\n",
    "df = df.dropna(subset=['Embarked'])"
   ]
  },
  {
   "cell_type": "code",
   "execution_count": 23,
   "id": "121125cb",
   "metadata": {},
   "outputs": [
    {
     "data": {
      "text/plain": [
       "PassengerId    0\n",
       "Survived       0\n",
       "Pclass         0\n",
       "Sex            0\n",
       "Age            0\n",
       "SibSp          0\n",
       "Parch          0\n",
       "Fare           0\n",
       "Embarked       0\n",
       "dtype: int64"
      ]
     },
     "execution_count": 23,
     "metadata": {},
     "output_type": "execute_result"
    }
   ],
   "source": [
    "df.isnull().sum()"
   ]
  },
  {
   "cell_type": "code",
   "execution_count": 24,
   "id": "d263146d",
   "metadata": {},
   "outputs": [
    {
     "data": {
      "text/plain": [
       "(889, 9)"
      ]
     },
     "execution_count": 24,
     "metadata": {},
     "output_type": "execute_result"
    }
   ],
   "source": [
    "df.shape"
   ]
  },
  {
   "cell_type": "code",
   "execution_count": 25,
   "id": "46076b6b",
   "metadata": {},
   "outputs": [
    {
     "data": {
      "text/plain": [
       "PassengerId      int64\n",
       "Survived         int64\n",
       "Pclass           int64\n",
       "Sex             object\n",
       "Age            float64\n",
       "SibSp            int64\n",
       "Parch            int64\n",
       "Fare           float64\n",
       "Embarked        object\n",
       "dtype: object"
      ]
     },
     "execution_count": 25,
     "metadata": {},
     "output_type": "execute_result"
    }
   ],
   "source": [
    "df.dtypes"
   ]
  },
  {
   "cell_type": "code",
   "execution_count": 26,
   "id": "db43cf73",
   "metadata": {},
   "outputs": [
    {
     "name": "stdout",
     "output_type": "stream",
     "text": [
      "['male' 'female']\n",
      "['S' 'C' 'Q']\n"
     ]
    }
   ],
   "source": [
    "print(df['Sex'].unique())\n",
    "print(df['Embarked'].unique())"
   ]
  },
  {
   "cell_type": "code",
   "execution_count": 27,
   "id": "85c3fe1e",
   "metadata": {},
   "outputs": [
    {
     "name": "stdout",
     "output_type": "stream",
     "text": [
      "male      577\n",
      "female    312\n",
      "Name: Sex, dtype: int64\n",
      "S    644\n",
      "C    168\n",
      "Q     77\n",
      "Name: Embarked, dtype: int64\n"
     ]
    }
   ],
   "source": [
    "print(df['Sex'].value_counts())\n",
    "print(df['Embarked'].value_counts())"
   ]
  },
  {
   "cell_type": "markdown",
   "id": "19cb2a89",
   "metadata": {},
   "source": [
    "To prepare dataset for Machine Learning models we need to change all categorical types to numerical values. "
   ]
  },
  {
   "cell_type": "code",
   "execution_count": 28,
   "id": "17901c51",
   "metadata": {},
   "outputs": [],
   "source": [
    "from sklearn.preprocessing import LabelEncoder"
   ]
  },
  {
   "cell_type": "code",
   "execution_count": 29,
   "id": "adb8302e",
   "metadata": {},
   "outputs": [],
   "source": [
    "encoder = LabelEncoder()"
   ]
  },
  {
   "cell_type": "code",
   "execution_count": 30,
   "id": "6057f3f1",
   "metadata": {},
   "outputs": [],
   "source": [
    "df.iloc[:, 3] = encoder.fit_transform(df.iloc[:, 3].values)\n",
    "df.iloc[:, 8] = encoder.fit_transform(df.iloc[:, 8].values)\n"
   ]
  },
  {
   "cell_type": "code",
   "execution_count": 31,
   "id": "f670806e",
   "metadata": {},
   "outputs": [
    {
     "data": {
      "text/plain": [
       "PassengerId      int64\n",
       "Survived         int64\n",
       "Pclass           int64\n",
       "Sex              int32\n",
       "Age            float64\n",
       "SibSp            int64\n",
       "Parch            int64\n",
       "Fare           float64\n",
       "Embarked         int32\n",
       "dtype: object"
      ]
     },
     "execution_count": 31,
     "metadata": {},
     "output_type": "execute_result"
    }
   ],
   "source": [
    "df.dtypes"
   ]
  },
  {
   "cell_type": "code",
   "execution_count": 32,
   "id": "0e42fc42",
   "metadata": {},
   "outputs": [
    {
     "name": "stdout",
     "output_type": "stream",
     "text": [
      "[1 0]\n",
      "[2 0 1]\n"
     ]
    }
   ],
   "source": [
    "print(df['Sex'].unique())\n",
    "print(df['Embarked'].unique())"
   ]
  },
  {
   "cell_type": "code",
   "execution_count": 33,
   "id": "a8e0b19b",
   "metadata": {},
   "outputs": [
    {
     "name": "stdout",
     "output_type": "stream",
     "text": [
      "1    577\n",
      "0    312\n",
      "Name: Sex, dtype: int64\n",
      "2    644\n",
      "0    168\n",
      "1     77\n",
      "Name: Embarked, dtype: int64\n"
     ]
    }
   ],
   "source": [
    "print(df['Sex'].value_counts())\n",
    "print(df['Embarked'].value_counts())"
   ]
  },
  {
   "cell_type": "markdown",
   "id": "fee35351",
   "metadata": {},
   "source": [
    "We can see that we have got number 1 for Male and 0 for Female in the column 'Sex' and for 'Embarked': 2 for S, 0 for C, and 1 for Q."
   ]
  },
  {
   "cell_type": "code",
   "execution_count": 34,
   "id": "967b8f28",
   "metadata": {},
   "outputs": [
    {
     "data": {
      "text/html": [
       "<div>\n",
       "<style scoped>\n",
       "    .dataframe tbody tr th:only-of-type {\n",
       "        vertical-align: middle;\n",
       "    }\n",
       "\n",
       "    .dataframe tbody tr th {\n",
       "        vertical-align: top;\n",
       "    }\n",
       "\n",
       "    .dataframe thead th {\n",
       "        text-align: right;\n",
       "    }\n",
       "</style>\n",
       "<table border=\"1\" class=\"dataframe\">\n",
       "  <thead>\n",
       "    <tr style=\"text-align: right;\">\n",
       "      <th></th>\n",
       "      <th>PassengerId</th>\n",
       "      <th>Survived</th>\n",
       "      <th>Pclass</th>\n",
       "      <th>Sex</th>\n",
       "      <th>Age</th>\n",
       "      <th>SibSp</th>\n",
       "      <th>Parch</th>\n",
       "      <th>Fare</th>\n",
       "      <th>Embarked</th>\n",
       "    </tr>\n",
       "  </thead>\n",
       "  <tbody>\n",
       "    <tr>\n",
       "      <th>0</th>\n",
       "      <td>1</td>\n",
       "      <td>0</td>\n",
       "      <td>3</td>\n",
       "      <td>1</td>\n",
       "      <td>22.0</td>\n",
       "      <td>1</td>\n",
       "      <td>0</td>\n",
       "      <td>7.2500</td>\n",
       "      <td>2</td>\n",
       "    </tr>\n",
       "    <tr>\n",
       "      <th>1</th>\n",
       "      <td>2</td>\n",
       "      <td>1</td>\n",
       "      <td>1</td>\n",
       "      <td>0</td>\n",
       "      <td>38.0</td>\n",
       "      <td>1</td>\n",
       "      <td>0</td>\n",
       "      <td>71.2833</td>\n",
       "      <td>0</td>\n",
       "    </tr>\n",
       "    <tr>\n",
       "      <th>2</th>\n",
       "      <td>3</td>\n",
       "      <td>1</td>\n",
       "      <td>3</td>\n",
       "      <td>0</td>\n",
       "      <td>26.0</td>\n",
       "      <td>0</td>\n",
       "      <td>0</td>\n",
       "      <td>7.9250</td>\n",
       "      <td>2</td>\n",
       "    </tr>\n",
       "    <tr>\n",
       "      <th>3</th>\n",
       "      <td>4</td>\n",
       "      <td>1</td>\n",
       "      <td>1</td>\n",
       "      <td>0</td>\n",
       "      <td>35.0</td>\n",
       "      <td>1</td>\n",
       "      <td>0</td>\n",
       "      <td>53.1000</td>\n",
       "      <td>2</td>\n",
       "    </tr>\n",
       "    <tr>\n",
       "      <th>4</th>\n",
       "      <td>5</td>\n",
       "      <td>0</td>\n",
       "      <td>3</td>\n",
       "      <td>1</td>\n",
       "      <td>35.0</td>\n",
       "      <td>0</td>\n",
       "      <td>0</td>\n",
       "      <td>8.0500</td>\n",
       "      <td>2</td>\n",
       "    </tr>\n",
       "  </tbody>\n",
       "</table>\n",
       "</div>"
      ],
      "text/plain": [
       "   PassengerId  Survived  Pclass  Sex   Age  SibSp  Parch     Fare  Embarked\n",
       "0            1         0       3    1  22.0      1      0   7.2500         2\n",
       "1            2         1       1    0  38.0      1      0  71.2833         0\n",
       "2            3         1       3    0  26.0      0      0   7.9250         2\n",
       "3            4         1       1    0  35.0      1      0  53.1000         2\n",
       "4            5         0       3    1  35.0      0      0   8.0500         2"
      ]
     },
     "execution_count": 34,
     "metadata": {},
     "output_type": "execute_result"
    }
   ],
   "source": [
    "df.head()"
   ]
  },
  {
   "cell_type": "code",
   "execution_count": 35,
   "id": "e457ff4c",
   "metadata": {},
   "outputs": [
    {
     "data": {
      "text/plain": [
       "(889, 9)"
      ]
     },
     "execution_count": 35,
     "metadata": {},
     "output_type": "execute_result"
    }
   ],
   "source": [
    "df.shape"
   ]
  },
  {
   "cell_type": "code",
   "execution_count": 36,
   "id": "a125aca7",
   "metadata": {},
   "outputs": [],
   "source": [
    "df=df"
   ]
  },
  {
   "cell_type": "code",
   "execution_count": 37,
   "id": "431ac727",
   "metadata": {},
   "outputs": [
    {
     "data": {
      "text/plain": [
       "(889, 9)"
      ]
     },
     "execution_count": 37,
     "metadata": {},
     "output_type": "execute_result"
    }
   ],
   "source": [
    "df.shape"
   ]
  },
  {
   "cell_type": "markdown",
   "id": "3a27bd9c",
   "metadata": {},
   "source": [
    "### Scaling of data"
   ]
  },
  {
   "cell_type": "markdown",
   "id": "a9f73c1f",
   "metadata": {},
   "source": [
    "Re-scalling data into one scale for all features."
   ]
  },
  {
   "cell_type": "code",
   "execution_count": 38,
   "id": "55428927",
   "metadata": {},
   "outputs": [],
   "source": [
    "from sklearn.preprocessing import StandardScaler\n",
    "s_scaler = StandardScaler()"
   ]
  },
  {
   "cell_type": "code",
   "execution_count": 39,
   "id": "273b5860",
   "metadata": {},
   "outputs": [],
   "source": [
    "X = df.drop(['Survived'], axis=1)\n",
    "y = df[['Survived']]"
   ]
  },
  {
   "cell_type": "code",
   "execution_count": 40,
   "id": "faab5e03",
   "metadata": {},
   "outputs": [
    {
     "name": "stdout",
     "output_type": "stream",
     "text": [
      "(889, 8)\n",
      "(889, 1)\n"
     ]
    }
   ],
   "source": [
    "print(X.shape)\n",
    "print(y.shape)"
   ]
  },
  {
   "cell_type": "code",
   "execution_count": 41,
   "id": "a507457e",
   "metadata": {},
   "outputs": [],
   "source": [
    "X_scaled = s_scaler.fit_transform(X)"
   ]
  },
  {
   "cell_type": "code",
   "execution_count": 42,
   "id": "cd8f3edc",
   "metadata": {},
   "outputs": [
    {
     "name": "stdout",
     "output_type": "stream",
     "text": [
      "[[-1.73250451  0.82520863  0.73534203 ... -0.47432585 -0.50023975\n",
      "   0.58683958]\n",
      " [-1.72861124 -1.57221121 -1.35991138 ... -0.47432585  0.78894661\n",
      "  -1.93955453]\n",
      " [-1.72471797  0.82520863 -1.35991138 ... -0.47432585 -0.48664993\n",
      "   0.58683958]\n",
      " ...\n",
      " [ 1.72471797  0.82520863 -1.35991138 ...  2.00611934 -0.17408416\n",
      "   0.58683958]\n",
      " [ 1.72861124 -1.57221121  0.73534203 ... -0.47432585 -0.0422126\n",
      "  -1.93955453]\n",
      " [ 1.73250451  0.82520863  0.73534203 ... -0.47432585 -0.49017322\n",
      "  -0.67635748]]\n"
     ]
    }
   ],
   "source": [
    "print(X_scaled)"
   ]
  },
  {
   "cell_type": "code",
   "execution_count": 43,
   "id": "bb261272",
   "metadata": {},
   "outputs": [
    {
     "data": {
      "text/html": [
       "<div>\n",
       "<style scoped>\n",
       "    .dataframe tbody tr th:only-of-type {\n",
       "        vertical-align: middle;\n",
       "    }\n",
       "\n",
       "    .dataframe tbody tr th {\n",
       "        vertical-align: top;\n",
       "    }\n",
       "\n",
       "    .dataframe thead th {\n",
       "        text-align: right;\n",
       "    }\n",
       "</style>\n",
       "<table border=\"1\" class=\"dataframe\">\n",
       "  <thead>\n",
       "    <tr style=\"text-align: right;\">\n",
       "      <th></th>\n",
       "      <th>0</th>\n",
       "      <th>1</th>\n",
       "      <th>2</th>\n",
       "      <th>3</th>\n",
       "      <th>4</th>\n",
       "      <th>5</th>\n",
       "      <th>6</th>\n",
       "      <th>7</th>\n",
       "    </tr>\n",
       "  </thead>\n",
       "  <tbody>\n",
       "    <tr>\n",
       "      <th>0</th>\n",
       "      <td>-1.732505</td>\n",
       "      <td>0.825209</td>\n",
       "      <td>0.735342</td>\n",
       "      <td>-0.590495</td>\n",
       "      <td>0.431350</td>\n",
       "      <td>-0.474326</td>\n",
       "      <td>-0.500240</td>\n",
       "      <td>0.586840</td>\n",
       "    </tr>\n",
       "    <tr>\n",
       "      <th>1</th>\n",
       "      <td>-1.728611</td>\n",
       "      <td>-1.572211</td>\n",
       "      <td>-1.359911</td>\n",
       "      <td>0.643971</td>\n",
       "      <td>0.431350</td>\n",
       "      <td>-0.474326</td>\n",
       "      <td>0.788947</td>\n",
       "      <td>-1.939555</td>\n",
       "    </tr>\n",
       "    <tr>\n",
       "      <th>2</th>\n",
       "      <td>-1.724718</td>\n",
       "      <td>0.825209</td>\n",
       "      <td>-1.359911</td>\n",
       "      <td>-0.281878</td>\n",
       "      <td>-0.475199</td>\n",
       "      <td>-0.474326</td>\n",
       "      <td>-0.486650</td>\n",
       "      <td>0.586840</td>\n",
       "    </tr>\n",
       "    <tr>\n",
       "      <th>3</th>\n",
       "      <td>-1.720825</td>\n",
       "      <td>-1.572211</td>\n",
       "      <td>-1.359911</td>\n",
       "      <td>0.412509</td>\n",
       "      <td>0.431350</td>\n",
       "      <td>-0.474326</td>\n",
       "      <td>0.422861</td>\n",
       "      <td>0.586840</td>\n",
       "    </tr>\n",
       "    <tr>\n",
       "      <th>4</th>\n",
       "      <td>-1.716931</td>\n",
       "      <td>0.825209</td>\n",
       "      <td>0.735342</td>\n",
       "      <td>0.412509</td>\n",
       "      <td>-0.475199</td>\n",
       "      <td>-0.474326</td>\n",
       "      <td>-0.484133</td>\n",
       "      <td>0.586840</td>\n",
       "    </tr>\n",
       "  </tbody>\n",
       "</table>\n",
       "</div>"
      ],
      "text/plain": [
       "          0         1         2         3         4         5         6  \\\n",
       "0 -1.732505  0.825209  0.735342 -0.590495  0.431350 -0.474326 -0.500240   \n",
       "1 -1.728611 -1.572211 -1.359911  0.643971  0.431350 -0.474326  0.788947   \n",
       "2 -1.724718  0.825209 -1.359911 -0.281878 -0.475199 -0.474326 -0.486650   \n",
       "3 -1.720825 -1.572211 -1.359911  0.412509  0.431350 -0.474326  0.422861   \n",
       "4 -1.716931  0.825209  0.735342  0.412509 -0.475199 -0.474326 -0.484133   \n",
       "\n",
       "          7  \n",
       "0  0.586840  \n",
       "1 -1.939555  \n",
       "2  0.586840  \n",
       "3  0.586840  \n",
       "4  0.586840  "
      ]
     },
     "execution_count": 43,
     "metadata": {},
     "output_type": "execute_result"
    }
   ],
   "source": [
    "X_scaled_df = pd.DataFrame(X_scaled)\n",
    "X_scaled_df.head()"
   ]
  },
  {
   "cell_type": "code",
   "execution_count": 44,
   "id": "e8a96501",
   "metadata": {},
   "outputs": [
    {
     "name": "stdout",
     "output_type": "stream",
     "text": [
      "(889, 8)\n",
      "(889, 1)\n"
     ]
    }
   ],
   "source": [
    "print(X_scaled.shape)\n",
    "print(y.shape)"
   ]
  },
  {
   "cell_type": "markdown",
   "id": "1f6d22db",
   "metadata": {},
   "source": [
    "### Split data into train and test:"
   ]
  },
  {
   "cell_type": "code",
   "execution_count": 45,
   "id": "45c83dff",
   "metadata": {},
   "outputs": [],
   "source": [
    "from sklearn.model_selection import train_test_split\n",
    "from sklearn.metrics import classification_report, confusion_matrix\n",
    "from sklearn import metrics\n",
    "X_train, X_test, y_train, y_test = train_test_split(X_scaled, y, test_size=0.2, random_state = 42)"
   ]
  },
  {
   "cell_type": "code",
   "execution_count": 46,
   "id": "b779f06c",
   "metadata": {},
   "outputs": [
    {
     "name": "stdout",
     "output_type": "stream",
     "text": [
      "Total number of rows and columns for the complete dataset:  (889, 8) (889, 1)\n"
     ]
    }
   ],
   "source": [
    "print('Total number of rows and columns for the complete dataset: ', X_scaled.shape, y.shape)"
   ]
  },
  {
   "cell_type": "code",
   "execution_count": 47,
   "id": "ac81a622",
   "metadata": {},
   "outputs": [
    {
     "name": "stdout",
     "output_type": "stream",
     "text": [
      "Number of rows and columns after splitting dataset:  (711, 8) (178, 8) (711, 1) (178, 1)\n"
     ]
    }
   ],
   "source": [
    "print('Number of rows and columns after splitting dataset: ', X_train.shape, X_test.shape, y_train.shape, y_test.shape )"
   ]
  },
  {
   "cell_type": "markdown",
   "id": "2c89c010",
   "metadata": {},
   "source": [
    "### Building  models with default parameters"
   ]
  },
  {
   "cell_type": "markdown",
   "id": "b00f4003",
   "metadata": {},
   "source": [
    "#### 1. Logistic Regression "
   ]
  },
  {
   "cell_type": "code",
   "execution_count": 48,
   "id": "30f8c4b5",
   "metadata": {},
   "outputs": [
    {
     "name": "stdout",
     "output_type": "stream",
     "text": [
      "Training set score for Logistic Regression: 0.8003\n",
      "Test set score for Logistic Regression: 0.7697\n"
     ]
    }
   ],
   "source": [
    "# loading library and initiating Logistic Regression Classifier\n",
    "\n",
    "from sklearn.linear_model import LogisticRegression\n",
    "log_mod = LogisticRegression()\n",
    "log_mod.fit(X_train, y_train)\n",
    "\n",
    "# Printing out Training and Testing score of the model\n",
    "\n",
    "print('Training set score for Logistic Regression: {:.4f}'.format(log_mod.score(X_train, y_train)))\n",
    "print('Test set score for Logistic Regression: {:.4f}'.format(log_mod.score(X_test, y_test)))"
   ]
  },
  {
   "cell_type": "code",
   "execution_count": 49,
   "id": "7f437816",
   "metadata": {},
   "outputs": [],
   "source": [
    "# generating accuracy, precision, recall and F1 scores\n",
    "\n",
    "log_mod_y_pred = log_mod.predict(X_test)\n",
    "    \n",
    "log_mod_accuracy = metrics.accuracy_score(y_test, log_mod_y_pred)\n",
    "log_mod_precision = metrics.precision_score(y_test, log_mod_y_pred)\n",
    "log_mod_recall = metrics.recall_score(y_test, log_mod_y_pred)\n",
    "log_mod_f1 = metrics.f1_score(y_test, log_mod_y_pred)\n"
   ]
  },
  {
   "cell_type": "code",
   "execution_count": 50,
   "id": "6cdc0212",
   "metadata": {},
   "outputs": [
    {
     "name": "stdout",
     "output_type": "stream",
     "text": [
      "              precision    recall  f1-score   support\n",
      "\n",
      "           0       0.84      0.77      0.80       109\n",
      "           1       0.68      0.77      0.72        69\n",
      "\n",
      "    accuracy                           0.77       178\n",
      "   macro avg       0.76      0.77      0.76       178\n",
      "weighted avg       0.78      0.77      0.77       178\n",
      "\n",
      "[[84 25]\n",
      " [16 53]]\n"
     ]
    }
   ],
   "source": [
    "# printing out results of Classification Report and summary of Confusion Matrix\n",
    "\n",
    "print(classification_report(y_test, log_mod_y_pred))\n",
    "print(metrics.confusion_matrix(y_test, log_mod_y_pred))"
   ]
  },
  {
   "cell_type": "code",
   "execution_count": 51,
   "id": "91973975",
   "metadata": {},
   "outputs": [
    {
     "data": {
      "text/plain": [
       "Text(0.5, 1.0, 'Confusion Matrix for Logistic Regression Model')"
      ]
     },
     "execution_count": 51,
     "metadata": {},
     "output_type": "execute_result"
    },
    {
     "data": {
      "image/png": "[encoded data removed]",
      "text/plain": [
       "<Figure size 504x288 with 2 Axes>"
      ]
     },
     "metadata": {},
     "output_type": "display_data"
    }
   ],
   "source": [
    "# Visualising Confusion Matrix\n",
    "\n",
    "cm = confusion_matrix(y_test, log_mod_y_pred)\n",
    "colors = [\"#bdbdbd\", \"#636363\"]\n",
    "sns.set_palette(sns.color_palette(colors))\n",
    "sns.heatmap(cm, annot=True, fmt='g', cmap='mako')\n",
    "plt.title('Confusion Matrix for Logistic Regression Model', fontsize=18)"
   ]
  },
  {
   "cell_type": "markdown",
   "id": "5c505415",
   "metadata": {},
   "source": [
    "#### 2. KNN Neighbors"
   ]
  },
  {
   "cell_type": "code",
   "execution_count": 52,
   "id": "2b532931",
   "metadata": {},
   "outputs": [
    {
     "name": "stdout",
     "output_type": "stream",
     "text": [
      "Training set score for KNN Neighbors: 0.8650\n",
      "Test set score for KNN Neighbors: 0.7978\n"
     ]
    }
   ],
   "source": [
    "# loading library and initiating KNN Classifier\n",
    "\n",
    "from sklearn.neighbors import KNeighborsClassifier\n",
    "knn_mod = KNeighborsClassifier(n_neighbors = 5, metric = 'minkowski', p=2)\n",
    "knn_mod.fit(X_train, y_train) \n",
    "\n",
    "# Printing out training and testing accuracy score\n",
    "\n",
    "print('Training set score for KNN Neighbors: {:.4f}'.format(knn_mod.score(X_train, y_train)))\n",
    "print('Test set score for KNN Neighbors: {:.4f}'.format(knn_mod.score(X_test, y_test)))"
   ]
  },
  {
   "cell_type": "code",
   "execution_count": 53,
   "id": "bf5d94ca",
   "metadata": {},
   "outputs": [],
   "source": [
    "# generating accuracy, precision, recall and F1 scores\n",
    "\n",
    "knn_mod_y_pred = knn_mod.predict(X_test)\n",
    "    \n",
    "knn_mod_accuracy = metrics.accuracy_score(y_test, knn_mod_y_pred)\n",
    "knn_mod_precision = metrics.precision_score(y_test, knn_mod_y_pred)\n",
    "knn_mod_recall = metrics.recall_score(y_test, knn_mod_y_pred)\n",
    "knn_mod_f1 = metrics.f1_score(y_test, knn_mod_y_pred)"
   ]
  },
  {
   "cell_type": "code",
   "execution_count": 54,
   "id": "f00651c5",
   "metadata": {},
   "outputs": [
    {
     "name": "stdout",
     "output_type": "stream",
     "text": [
      "              precision    recall  f1-score   support\n",
      "\n",
      "           0       0.84      0.83      0.83       109\n",
      "           1       0.73      0.75      0.74        69\n",
      "\n",
      "    accuracy                           0.80       178\n",
      "   macro avg       0.79      0.79      0.79       178\n",
      "weighted avg       0.80      0.80      0.80       178\n",
      "\n",
      "[[90 19]\n",
      " [17 52]]\n"
     ]
    }
   ],
   "source": [
    "# printing out Classification Matrix and Confusion matrix\n",
    "\n",
    "print(classification_report(y_test, knn_mod_y_pred))\n",
    "print(metrics.confusion_matrix(y_test, knn_mod_y_pred))"
   ]
  },
  {
   "cell_type": "code",
   "execution_count": 55,
   "id": "d4fe0fb5",
   "metadata": {},
   "outputs": [
    {
     "data": {
      "text/plain": [
       "Text(0.5, 1.0, 'Confusion Matrix for KNN Neighbors Model')"
      ]
     },
     "execution_count": 55,
     "metadata": {},
     "output_type": "execute_result"
    },
    {
     "data": {
      "image/png": "[encoded data removed]",
      "text/plain": [
       "<Figure size 504x288 with 2 Axes>"
      ]
     },
     "metadata": {},
     "output_type": "display_data"
    }
   ],
   "source": [
    "cm = confusion_matrix(y_test, knn_mod_y_pred)\n",
    "colors = [\"#bdbdbd\", \"#636363\"]\n",
    "sns.set_palette(sns.color_palette(colors))\n",
    "sns.heatmap(cm, annot=True, fmt='g', cmap='mako')\n",
    "plt.title('Confusion Matrix for KNN Neighbors Model', fontsize=18)"
   ]
  },
  {
   "cell_type": "markdown",
   "id": "817b0e91",
   "metadata": {},
   "source": [
    "#### 3. Supported Vector Machine "
   ]
  },
  {
   "cell_type": "code",
   "execution_count": 56,
   "id": "a50b571c",
   "metadata": {},
   "outputs": [
    {
     "name": "stdout",
     "output_type": "stream",
     "text": [
      "Training set score for SVM: 0.7834\n",
      "Test set score for SVM: 0.7978\n"
     ]
    }
   ],
   "source": [
    "# loading library and initiating SVC Classifier\n",
    "\n",
    "from sklearn.svm import SVC\n",
    "svc_mod = SVC(kernel='linear')\n",
    "svc_mod.fit(X_train, y_train) \n",
    "\n",
    "# Printing out training and testing accuracy score\n",
    "\n",
    "print('Training set score for SVM: {:.4f}'.format(svc_mod.score(X_train, y_train)))\n",
    "print('Test set score for SVM: {:.4f}'.format(svc_mod.score(X_test, y_test)))"
   ]
  },
  {
   "cell_type": "code",
   "execution_count": 57,
   "id": "58e78502",
   "metadata": {},
   "outputs": [],
   "source": [
    "# Generating Accuracy, Precision, Recall and F1 scores\n",
    "\n",
    "svc_mod_y_pred = svc_mod.predict(X_test)\n",
    "    \n",
    "svc_mod_accuracy = metrics.accuracy_score(y_test, svc_mod_y_pred)\n",
    "svc_mod_precision = metrics.precision_score(y_test, svc_mod_y_pred)\n",
    "svc_mod_recall = metrics.recall_score(y_test, svc_mod_y_pred)\n",
    "svc_mod_f1 = metrics.f1_score(y_test, svc_mod_y_pred)"
   ]
  },
  {
   "cell_type": "code",
   "execution_count": 58,
   "id": "252faa21",
   "metadata": {},
   "outputs": [
    {
     "name": "stdout",
     "output_type": "stream",
     "text": [
      "              precision    recall  f1-score   support\n",
      "\n",
      "           0       0.85      0.82      0.83       109\n",
      "           1       0.73      0.77      0.75        69\n",
      "\n",
      "    accuracy                           0.80       178\n",
      "   macro avg       0.79      0.79      0.79       178\n",
      "weighted avg       0.80      0.80      0.80       178\n",
      "\n",
      "[[89 20]\n",
      " [16 53]]\n"
     ]
    }
   ],
   "source": [
    "# printing out Classification Matrix and Confusion matrix\n",
    "\n",
    "print(classification_report(y_test, svc_mod_y_pred))\n",
    "print(metrics.confusion_matrix(y_test, svc_mod_y_pred))"
   ]
  },
  {
   "cell_type": "code",
   "execution_count": 59,
   "id": "ec95a4fa",
   "metadata": {},
   "outputs": [
    {
     "data": {
      "text/plain": [
       "Text(0.5, 1.0, 'Confusion Matrix for Supported Vector Machine Model')"
      ]
     },
     "execution_count": 59,
     "metadata": {},
     "output_type": "execute_result"
    },
    {
     "data": {
      "image/png": "[encoded data removed]",
      "text/plain": [
       "<Figure size 504x288 with 2 Axes>"
      ]
     },
     "metadata": {},
     "output_type": "display_data"
    }
   ],
   "source": [
    "cm = confusion_matrix(y_test, svc_mod_y_pred)\n",
    "colors = [\"#bdbdbd\", \"#636363\"]\n",
    "sns.set_palette(sns.color_palette(colors))\n",
    "sns.heatmap(cm, annot=True, fmt='g', cmap='mako')\n",
    "plt.title('Confusion Matrix for Supported Vector Machine Model', fontsize=18)"
   ]
  },
  {
   "cell_type": "markdown",
   "id": "ee43e1da",
   "metadata": {},
   "source": [
    "#### 4. Naive Bayes"
   ]
  },
  {
   "cell_type": "code",
   "execution_count": 60,
   "id": "cc8b99a0",
   "metadata": {},
   "outputs": [
    {
     "name": "stdout",
     "output_type": "stream",
     "text": [
      "Training set score for Naive Bayes: 0.7975\n",
      "Test set score for Naive Bayes: 0.7753\n"
     ]
    }
   ],
   "source": [
    "# loading library and initiating Naive Bayes Classifier\n",
    "\n",
    "from sklearn.naive_bayes import GaussianNB\n",
    "gaus_mod = GaussianNB()\n",
    "gaus_mod.fit(X_train, y_train)  \n",
    "\n",
    "# Printing out training and testing accuracy score\n",
    "\n",
    "print('Training set score for Naive Bayes: {:.4f}'.format(gaus_mod.score(X_train, y_train)))\n",
    "print('Test set score for Naive Bayes: {:.4f}'.format(gaus_mod.score(X_test, y_test)))"
   ]
  },
  {
   "cell_type": "code",
   "execution_count": 61,
   "id": "102869ca",
   "metadata": {},
   "outputs": [],
   "source": [
    "# Generating Accuracy, Precision, Recall and F1 scores\n",
    "\n",
    "gaus_mod_y_pred = gaus_mod.predict(X_test)\n",
    "    \n",
    "gaus_mod_accuracy = metrics.accuracy_score(y_test, gaus_mod_y_pred)\n",
    "gaus_mod_precision = metrics.precision_score(y_test, gaus_mod_y_pred)\n",
    "gaus_mod_recall = metrics.recall_score(y_test, gaus_mod_y_pred)\n",
    "gaus_mod_f1 = metrics.f1_score(y_test, gaus_mod_y_pred)"
   ]
  },
  {
   "cell_type": "code",
   "execution_count": 62,
   "id": "9e3ac95f",
   "metadata": {},
   "outputs": [
    {
     "name": "stdout",
     "output_type": "stream",
     "text": [
      "              precision    recall  f1-score   support\n",
      "\n",
      "           0       0.84      0.78      0.81       109\n",
      "           1       0.69      0.77      0.73        69\n",
      "\n",
      "    accuracy                           0.78       178\n",
      "   macro avg       0.76      0.77      0.77       178\n",
      "weighted avg       0.78      0.78      0.78       178\n",
      "\n",
      "[[85 24]\n",
      " [16 53]]\n"
     ]
    }
   ],
   "source": [
    "# printing out Classification Matrix and Confusion matrix\n",
    "\n",
    "print(classification_report(y_test, gaus_mod_y_pred))\n",
    "print(metrics.confusion_matrix(y_test, gaus_mod_y_pred))"
   ]
  },
  {
   "cell_type": "code",
   "execution_count": 63,
   "id": "0ce39edf",
   "metadata": {},
   "outputs": [
    {
     "data": {
      "text/plain": [
       "Text(0.5, 1.0, 'Confusion Matrix for Naive Bayes Model')"
      ]
     },
     "execution_count": 63,
     "metadata": {},
     "output_type": "execute_result"
    },
    {
     "data": {
      "image/png": "[encoded data removed]",
      "text/plain": [
       "<Figure size 504x288 with 2 Axes>"
      ]
     },
     "metadata": {},
     "output_type": "display_data"
    }
   ],
   "source": [
    "cm = confusion_matrix(y_test, gaus_mod_y_pred)\n",
    "colors = [\"#bdbdbd\", \"#636363\"]\n",
    "sns.set_palette(sns.color_palette(colors))\n",
    "sns.heatmap(cm, annot=True, fmt='g', cmap='mako')\n",
    "plt.title('Confusion Matrix for Naive Bayes Model', fontsize=18)"
   ]
  },
  {
   "cell_type": "markdown",
   "id": "ab3d5007",
   "metadata": {},
   "source": [
    "#### 5. Decision Tree"
   ]
  },
  {
   "cell_type": "code",
   "execution_count": 64,
   "id": "9d605210",
   "metadata": {},
   "outputs": [
    {
     "name": "stdout",
     "output_type": "stream",
     "text": [
      "Training set score for Decision Tree: 1.0000\n",
      "Test set score for Decision Tree: 0.7528\n"
     ]
    }
   ],
   "source": [
    "# loading library and initiating Decision Tree Classifier\n",
    "\n",
    "from sklearn.tree import DecisionTreeClassifier\n",
    "DT_mod = DecisionTreeClassifier(criterion='entropy', random_state=0)\n",
    "DT_mod.fit(X_train, y_train)\n",
    "\n",
    "# Printing out training and testing accuracy score\n",
    "\n",
    "print('Training set score for Decision Tree: {:.4f}'.format(DT_mod.score(X_train, y_train)))\n",
    "print('Test set score for Decision Tree: {:.4f}'.format(DT_mod.score(X_test, y_test)))"
   ]
  },
  {
   "cell_type": "code",
   "execution_count": 65,
   "id": "a45833f6",
   "metadata": {},
   "outputs": [],
   "source": [
    "# Generating Accuracy, Precision, Recall and F1 scores\n",
    "\n",
    "DT_mod_y_pred = DT_mod.predict(X_test)\n",
    "    \n",
    "DT_mod_accuracy = metrics.accuracy_score(y_test, DT_mod_y_pred)\n",
    "DT_mod_precision = metrics.precision_score(y_test, DT_mod_y_pred)\n",
    "DT_mod_recall = metrics.recall_score(y_test, DT_mod_y_pred)\n",
    "DT_mod_f1 = metrics.f1_score(y_test, DT_mod_y_pred)"
   ]
  },
  {
   "cell_type": "code",
   "execution_count": 66,
   "id": "1b5b9407",
   "metadata": {},
   "outputs": [
    {
     "name": "stdout",
     "output_type": "stream",
     "text": [
      "              precision    recall  f1-score   support\n",
      "\n",
      "           0       0.80      0.79      0.80       109\n",
      "           1       0.68      0.70      0.69        69\n",
      "\n",
      "    accuracy                           0.75       178\n",
      "   macro avg       0.74      0.74      0.74       178\n",
      "weighted avg       0.75      0.75      0.75       178\n",
      "\n",
      "[[86 23]\n",
      " [21 48]]\n"
     ]
    }
   ],
   "source": [
    "# printing out Classification Matrix and Confusion matrix\n",
    "\n",
    "print(classification_report(y_test, DT_mod_y_pred))\n",
    "print(metrics.confusion_matrix(y_test, DT_mod_y_pred))"
   ]
  },
  {
   "cell_type": "code",
   "execution_count": 67,
   "id": "cf832e77",
   "metadata": {},
   "outputs": [
    {
     "data": {
      "text/plain": [
       "Text(0.5, 1.0, 'Confusion Matrix for Decision Tree Model')"
      ]
     },
     "execution_count": 67,
     "metadata": {},
     "output_type": "execute_result"
    },
    {
     "data": {
      "image/png": "[encoded data removed]",
      "text/plain": [
       "<Figure size 504x288 with 2 Axes>"
      ]
     },
     "metadata": {},
     "output_type": "display_data"
    }
   ],
   "source": [
    "cm = confusion_matrix(y_test, gaus_mod_y_pred)\n",
    "colors = [\"#bdbdbd\", \"#636363\"]\n",
    "sns.set_palette(sns.color_palette(colors))\n",
    "sns.heatmap(cm, annot=True, fmt='g', cmap='mako')\n",
    "plt.title('Confusion Matrix for Decision Tree Model', fontsize=18)"
   ]
  },
  {
   "cell_type": "markdown",
   "id": "cf9623fc",
   "metadata": {},
   "source": [
    "#### 6. Random Forest"
   ]
  },
  {
   "cell_type": "code",
   "execution_count": 68,
   "id": "f32e54e5",
   "metadata": {},
   "outputs": [
    {
     "name": "stdout",
     "output_type": "stream",
     "text": [
      "Training set score for Random Fores: 0.9761\n",
      "Test set score for Random Fores: 0.7921\n"
     ]
    }
   ],
   "source": [
    "# loading library and initiating Random Forest Classifier\n",
    "\n",
    "from sklearn.ensemble import RandomForestClassifier\n",
    "RF_mod = RandomForestClassifier(n_estimators=8, criterion='entropy', random_state=0)\n",
    "RF_mod.fit(X_train, y_train)\n",
    "\n",
    "# Printing out training and testing accuracy score\n",
    "\n",
    "print('Training set score for Random Fores: {:.4f}'.format(RF_mod.score(X_train, y_train)))\n",
    "print('Test set score for Random Fores: {:.4f}'.format(RF_mod.score(X_test, y_test)))"
   ]
  },
  {
   "cell_type": "code",
   "execution_count": 69,
   "id": "8ae9b6ae",
   "metadata": {},
   "outputs": [],
   "source": [
    "# Generating Accuracy, Precision, Recall and F1 scores\n",
    "\n",
    "RF_mod_y_pred = RF_mod.predict(X_test)\n",
    "    \n",
    "RF_mod_accuracy = metrics.accuracy_score(y_test, RF_mod_y_pred)\n",
    "RF_mod_precision = metrics.precision_score(y_test, RF_mod_y_pred)\n",
    "RF_mod_recall = metrics.recall_score(y_test, RF_mod_y_pred)\n",
    "RF_mod_f1 = metrics.f1_score(y_test, RF_mod_y_pred)"
   ]
  },
  {
   "cell_type": "code",
   "execution_count": 70,
   "id": "8e2abb6a",
   "metadata": {},
   "outputs": [
    {
     "name": "stdout",
     "output_type": "stream",
     "text": [
      "              precision    recall  f1-score   support\n",
      "\n",
      "           0       0.82      0.85      0.83       109\n",
      "           1       0.75      0.70      0.72        69\n",
      "\n",
      "    accuracy                           0.79       178\n",
      "   macro avg       0.78      0.77      0.78       178\n",
      "weighted avg       0.79      0.79      0.79       178\n",
      "\n",
      "[[93 16]\n",
      " [21 48]]\n"
     ]
    }
   ],
   "source": [
    "# printing out Classification Matrix and Confusion matrix\n",
    "\n",
    "print(classification_report(y_test, RF_mod_y_pred))\n",
    "print(metrics.confusion_matrix(y_test, RF_mod_y_pred))"
   ]
  },
  {
   "cell_type": "code",
   "execution_count": 71,
   "id": "652a6490",
   "metadata": {},
   "outputs": [
    {
     "data": {
      "text/plain": [
       "Text(0.5, 1.0, 'Confusion Matrix for Random Forest Model')"
      ]
     },
     "execution_count": 71,
     "metadata": {},
     "output_type": "execute_result"
    },
    {
     "data": {
      "image/png": "[encoded data removed]",
      "text/plain": [
       "<Figure size 504x288 with 2 Axes>"
      ]
     },
     "metadata": {},
     "output_type": "display_data"
    }
   ],
   "source": [
    "cm = confusion_matrix(y_test, RF_mod_y_pred)\n",
    "colors = [\"#bdbdbd\", \"#636363\"]\n",
    "sns.set_palette(sns.color_palette(colors))\n",
    "sns.heatmap(cm, annot=True, fmt='g', cmap='mako')\n",
    "plt.title('Confusion Matrix for Random Forest Model', fontsize=18)"
   ]
  },
  {
   "cell_type": "markdown",
   "id": "0a1fbcbe",
   "metadata": {},
   "source": [
    "### Model comparison:"
   ]
  },
  {
   "cell_type": "code",
   "execution_count": 72,
   "id": "b7ce87c1",
   "metadata": {},
   "outputs": [
    {
     "data": {
      "text/html": [
       "<div>\n",
       "<style scoped>\n",
       "    .dataframe tbody tr th:only-of-type {\n",
       "        vertical-align: middle;\n",
       "    }\n",
       "\n",
       "    .dataframe tbody tr th {\n",
       "        vertical-align: top;\n",
       "    }\n",
       "\n",
       "    .dataframe thead th {\n",
       "        text-align: right;\n",
       "    }\n",
       "</style>\n",
       "<table border=\"1\" class=\"dataframe\">\n",
       "  <thead>\n",
       "    <tr style=\"text-align: right;\">\n",
       "      <th></th>\n",
       "      <th>Model</th>\n",
       "      <th>Accuracy Score</th>\n",
       "      <th>Precision</th>\n",
       "      <th>Recall</th>\n",
       "      <th>F1 Score</th>\n",
       "    </tr>\n",
       "  </thead>\n",
       "  <tbody>\n",
       "    <tr>\n",
       "      <th>0</th>\n",
       "      <td>KNNneighbors</td>\n",
       "      <td>0.797753</td>\n",
       "      <td>0.732394</td>\n",
       "      <td>0.753623</td>\n",
       "      <td>0.742857</td>\n",
       "    </tr>\n",
       "    <tr>\n",
       "      <th>1</th>\n",
       "      <td>SVM</td>\n",
       "      <td>0.797753</td>\n",
       "      <td>0.726027</td>\n",
       "      <td>0.768116</td>\n",
       "      <td>0.746479</td>\n",
       "    </tr>\n",
       "    <tr>\n",
       "      <th>2</th>\n",
       "      <td>Random Forest</td>\n",
       "      <td>0.792135</td>\n",
       "      <td>0.750000</td>\n",
       "      <td>0.695652</td>\n",
       "      <td>0.721805</td>\n",
       "    </tr>\n",
       "    <tr>\n",
       "      <th>3</th>\n",
       "      <td>Naive Bayes</td>\n",
       "      <td>0.775281</td>\n",
       "      <td>0.688312</td>\n",
       "      <td>0.768116</td>\n",
       "      <td>0.726027</td>\n",
       "    </tr>\n",
       "    <tr>\n",
       "      <th>4</th>\n",
       "      <td>Log Reg</td>\n",
       "      <td>0.769663</td>\n",
       "      <td>0.679487</td>\n",
       "      <td>0.768116</td>\n",
       "      <td>0.721088</td>\n",
       "    </tr>\n",
       "    <tr>\n",
       "      <th>5</th>\n",
       "      <td>Decision Tree</td>\n",
       "      <td>0.752809</td>\n",
       "      <td>0.676056</td>\n",
       "      <td>0.695652</td>\n",
       "      <td>0.685714</td>\n",
       "    </tr>\n",
       "  </tbody>\n",
       "</table>\n",
       "</div>"
      ],
      "text/plain": [
       "           Model  Accuracy Score  Precision    Recall  F1 Score\n",
       "0   KNNneighbors        0.797753   0.732394  0.753623  0.742857\n",
       "1            SVM        0.797753   0.726027  0.768116  0.746479\n",
       "2  Random Forest        0.792135   0.750000  0.695652  0.721805\n",
       "3    Naive Bayes        0.775281   0.688312  0.768116  0.726027\n",
       "4        Log Reg        0.769663   0.679487  0.768116  0.721088\n",
       "5  Decision Tree        0.752809   0.676056  0.695652  0.685714"
      ]
     },
     "execution_count": 72,
     "metadata": {},
     "output_type": "execute_result"
    }
   ],
   "source": [
    "Model_Comparison = pd.DataFrame({\n",
    "'Model' : ['Log Reg', 'KNNneighbors', 'SVM', 'Naive Bayes', 'Decision Tree','Random Forest', ],\n",
    "'Accuracy Score' : [log_mod_accuracy, knn_mod_accuracy, svc_mod_accuracy,\n",
    "                   gaus_mod_accuracy, DT_mod_accuracy, RF_mod_accuracy],\n",
    "'Precision' : [log_mod_precision, knn_mod_precision, svc_mod_precision,\n",
    "              gaus_mod_precision, DT_mod_precision, RF_mod_precision],\n",
    "'Recall': [log_mod_recall, knn_mod_recall, svc_mod_recall,\n",
    "          gaus_mod_recall, DT_mod_recall, RF_mod_recall],\n",
    "'F1 Score': [log_mod_f1, knn_mod_f1, svc_mod_f1,\n",
    "            gaus_mod_f1, DT_mod_f1, RF_mod_f1]})\n",
    "Model_Comparison_df = Model_Comparison.sort_values(by='Accuracy Score', ascending=False)\n",
    "Model_Comparison_df = Model_Comparison_df.set_index('Model')\n",
    "Model_Comparison_df.reset_index()"
   ]
  },
  {
   "cell_type": "code",
   "execution_count": 73,
   "id": "f844e5f6",
   "metadata": {},
   "outputs": [
    {
     "data": {
      "text/plain": [
       "<AxesSubplot:ylabel='Model'>"
      ]
     },
     "execution_count": 73,
     "metadata": {},
     "output_type": "execute_result"
    },
    {
     "data": {
      "image/png": "[encoded data removed]",
      "text/plain": [
       "<Figure size 720x432 with 2 Axes>"
      ]
     },
     "metadata": {},
     "output_type": "display_data"
    }
   ],
   "source": [
    "sns.set(rc={'figure.figsize':(10,6)})\n",
    "sns.heatmap(Model_Comparison_df, annot=True, cmap='mako')"
   ]
  },
  {
   "cell_type": "markdown",
   "id": "51af4d76",
   "metadata": {},
   "source": [
    "### Lets try to tune 4 best performing models:"
   ]
  },
  {
   "cell_type": "markdown",
   "id": "c89a2355",
   "metadata": {},
   "source": [
    "#### 1. SVM with Tunning"
   ]
  },
  {
   "cell_type": "code",
   "execution_count": 74,
   "id": "17afb2fa",
   "metadata": {},
   "outputs": [],
   "source": [
    "from sklearn.model_selection import KFold\n",
    "from sklearn.model_selection import cross_val_score\n",
    "from sklearn.model_selection import GridSearchCV"
   ]
  },
  {
   "cell_type": "code",
   "execution_count": 75,
   "id": "468e3841",
   "metadata": {},
   "outputs": [],
   "source": [
    "folds = KFold(n_splits = 4, shuffle = True, random_state = 42)\n",
    "hyper_params = [ {'gamma': [1e-2, 1e-3, 1e-4],\n",
    "                     'C': [0.1, 1, 10, 100, 1000]}]\n",
    "svc_mod_2 = SVC(kernel=\"rbf\")"
   ]
  },
  {
   "cell_type": "code",
   "execution_count": 76,
   "id": "b238474a",
   "metadata": {},
   "outputs": [],
   "source": [
    "svc_grid_search = GridSearchCV(estimator = svc_mod_2, \n",
    "                        param_grid = hyper_params, \n",
    "                        scoring= 'accuracy', \n",
    "                        cv = folds, \n",
    "                        verbose = 1,\n",
    "                        return_train_score=True)  "
   ]
  },
  {
   "cell_type": "code",
   "execution_count": 77,
   "id": "5c59f089",
   "metadata": {},
   "outputs": [
    {
     "name": "stdout",
     "output_type": "stream",
     "text": [
      "Fitting 4 folds for each of 15 candidates, totalling 60 fits\n"
     ]
    },
    {
     "data": {
      "text/plain": [
       "GridSearchCV(cv=KFold(n_splits=4, random_state=42, shuffle=True),\n",
       "             estimator=SVC(),\n",
       "             param_grid=[{'C': [0.1, 1, 10, 100, 1000],\n",
       "                          'gamma': [0.01, 0.001, 0.0001]}],\n",
       "             return_train_score=True, scoring='accuracy', verbose=1)"
      ]
     },
     "execution_count": 77,
     "metadata": {},
     "output_type": "execute_result"
    }
   ],
   "source": [
    "svc_grid_search.fit(X_train, y_train)  "
   ]
  },
  {
   "cell_type": "code",
   "execution_count": 78,
   "id": "a1915b44",
   "metadata": {},
   "outputs": [
    {
     "name": "stdout",
     "output_type": "stream",
     "text": [
      "The best test score is 0.8171618104488034 corresponding to hyperparameters {'C': 100, 'gamma': 0.01}\n"
     ]
    }
   ],
   "source": [
    "best_score = svc_grid_search.best_score_\n",
    "best_hyperparams = svc_grid_search.best_params_\n",
    "\n",
    "print(\"The best test score is {0} corresponding to hyperparameters {1}\".format\n",
    "      (best_score, best_hyperparams))"
   ]
  },
  {
   "cell_type": "code",
   "execution_count": 79,
   "id": "9e647d20",
   "metadata": {},
   "outputs": [
    {
     "name": "stdout",
     "output_type": "stream",
     "text": [
      "Training set score for SVM tunned: 0.8228\n",
      "Test set score for SVM tunned: 0.8090\n"
     ]
    }
   ],
   "source": [
    "best_params = {\"C\": 100, \"gamma\": 0.01, \"kernel\":\"rbf\"}\n",
    "svc_mod_2 = SVC(kernel=\"rbf\")\n",
    "# model\n",
    "svc_mod_2 = SVC(C=10, gamma=0.01, kernel=\"rbf\")\n",
    "\n",
    "svc_mod_2.fit(X_train, y_train.values.ravel())\n",
    "svc_mod_y_pred_2 = svc_mod_2.predict(X_test)\n",
    "\n",
    "print('Training set score for SVM tunned: {:.4f}'.format(svc_mod_2.score(X_train, y_train)))\n",
    "print('Test set score for SVM tunned: {:.4f}'.format(svc_mod_2.score(X_test, y_test)))"
   ]
  },
  {
   "cell_type": "code",
   "execution_count": 80,
   "id": "bac91b8d",
   "metadata": {},
   "outputs": [],
   "source": [
    "svc_mod_2_accuracy = metrics.accuracy_score(y_test, svc_mod_y_pred_2)\n",
    "svc_mod_2_precision = metrics.precision_score(y_test, svc_mod_y_pred_2)\n",
    "svc_mod_2_recall = metrics.recall_score(y_test, svc_mod_y_pred_2)\n",
    "svc_mod_2_f1 = metrics.f1_score(y_test, svc_mod_y_pred_2)"
   ]
  },
  {
   "cell_type": "code",
   "execution_count": 81,
   "id": "708f0710",
   "metadata": {},
   "outputs": [
    {
     "name": "stdout",
     "output_type": "stream",
     "text": [
      "              precision    recall  f1-score   support\n",
      "\n",
      "           0       0.84      0.84      0.84       109\n",
      "           1       0.75      0.75      0.75        69\n",
      "\n",
      "    accuracy                           0.81       178\n",
      "   macro avg       0.80      0.80      0.80       178\n",
      "weighted avg       0.81      0.81      0.81       178\n",
      "\n",
      "[[92 17]\n",
      " [17 52]]\n"
     ]
    }
   ],
   "source": [
    "# printing out Classification Matrix and Confusion matrix\n",
    "\n",
    "print(classification_report(y_test, svc_mod_y_pred_2))\n",
    "print(metrics.confusion_matrix(y_test, svc_mod_y_pred_2))"
   ]
  },
  {
   "cell_type": "code",
   "execution_count": 82,
   "id": "f2d958c6",
   "metadata": {},
   "outputs": [
    {
     "data": {
      "text/plain": [
       "Text(0.5, 1.0, 'Confusion Matrix for SVM Tunned Model')"
      ]
     },
     "execution_count": 82,
     "metadata": {},
     "output_type": "execute_result"
    },
    {
     "data": {
      "image/png": "[encoded data removed]",
      "text/plain": [
       "<Figure size 720x432 with 2 Axes>"
      ]
     },
     "metadata": {},
     "output_type": "display_data"
    }
   ],
   "source": [
    "cm = confusion_matrix(y_test, svc_mod_y_pred_2)\n",
    "colors = [\"#bdbdbd\", \"#636363\"]\n",
    "sns.set_palette(sns.color_palette(colors))\n",
    "sns.heatmap(cm, annot=True, fmt='g', cmap='mako')\n",
    "plt.title('Confusion Matrix for SVM Tunned Model', fontsize=18)"
   ]
  },
  {
   "cell_type": "code",
   "execution_count": 83,
   "id": "dff4f1f0",
   "metadata": {},
   "outputs": [],
   "source": [
    "Model_Comparison = pd.DataFrame({\n",
    "'Model' : ['SVM_1', 'SVM_2'],\n",
    "'Accuracy Score' : [svc_mod_accuracy, svc_mod_2_accuracy],\n",
    "'Precision' : [svc_mod_precision, svc_mod_2_precision],\n",
    "'Recall': [svc_mod_recall, svc_mod_2_recall],\n",
    "'F1 Score': [svc_mod_f1, svc_mod_2_f1]})\n"
   ]
  },
  {
   "cell_type": "code",
   "execution_count": 84,
   "id": "5fa2f631",
   "metadata": {},
   "outputs": [
    {
     "data": {
      "text/html": [
       "<div>\n",
       "<style scoped>\n",
       "    .dataframe tbody tr th:only-of-type {\n",
       "        vertical-align: middle;\n",
       "    }\n",
       "\n",
       "    .dataframe tbody tr th {\n",
       "        vertical-align: top;\n",
       "    }\n",
       "\n",
       "    .dataframe thead th {\n",
       "        text-align: right;\n",
       "    }\n",
       "</style>\n",
       "<table border=\"1\" class=\"dataframe\">\n",
       "  <thead>\n",
       "    <tr style=\"text-align: right;\">\n",
       "      <th></th>\n",
       "      <th>Model</th>\n",
       "      <th>Accuracy Score</th>\n",
       "      <th>Precision</th>\n",
       "      <th>Recall</th>\n",
       "      <th>F1 Score</th>\n",
       "    </tr>\n",
       "  </thead>\n",
       "  <tbody>\n",
       "    <tr>\n",
       "      <th>0</th>\n",
       "      <td>SVM_2</td>\n",
       "      <td>0.808989</td>\n",
       "      <td>0.753623</td>\n",
       "      <td>0.753623</td>\n",
       "      <td>0.753623</td>\n",
       "    </tr>\n",
       "    <tr>\n",
       "      <th>1</th>\n",
       "      <td>SVM_1</td>\n",
       "      <td>0.797753</td>\n",
       "      <td>0.726027</td>\n",
       "      <td>0.768116</td>\n",
       "      <td>0.746479</td>\n",
       "    </tr>\n",
       "  </tbody>\n",
       "</table>\n",
       "</div>"
      ],
      "text/plain": [
       "   Model  Accuracy Score  Precision    Recall  F1 Score\n",
       "0  SVM_2        0.808989   0.753623  0.753623  0.753623\n",
       "1  SVM_1        0.797753   0.726027  0.768116  0.746479"
      ]
     },
     "execution_count": 84,
     "metadata": {},
     "output_type": "execute_result"
    }
   ],
   "source": [
    "Model_Comparison_df = Model_Comparison.sort_values(by='Accuracy Score', ascending=False)\n",
    "Model_Comparison_df = Model_Comparison_df.set_index('Model')\n",
    "Model_Comparison_df.reset_index()"
   ]
  },
  {
   "cell_type": "markdown",
   "id": "50361e35",
   "metadata": {},
   "source": [
    "#### 2. Logistic Regression with tunning"
   ]
  },
  {
   "cell_type": "markdown",
   "id": "ffd3ec35",
   "metadata": {},
   "source": [
    "Define parameters:"
   ]
  },
  {
   "cell_type": "code",
   "execution_count": 85,
   "id": "7ec76b72",
   "metadata": {},
   "outputs": [],
   "source": [
    "param_grid_lr = {\n",
    "    'max_iter': [20, 50, 100, 200, 500, 1000],                      \n",
    "    'solver': ['newton-cg', 'lbfgs', 'liblinear', 'sag', 'saga'],   \n",
    "    'class_weight': ['balanced']                                    \n",
    "}\n",
    "folds = KFold(n_splits = 4, shuffle = True, random_state = 42)\n",
    "log_mod_2 = LogisticRegression()"
   ]
  },
  {
   "cell_type": "code",
   "execution_count": 86,
   "id": "38ad8739",
   "metadata": {},
   "outputs": [],
   "source": [
    "log_reg_grid_search = GridSearchCV(estimator=log_mod_2, \n",
    "             param_grid=param_grid_lr, verbose=1, cv=folds, n_jobs=-1)"
   ]
  },
  {
   "cell_type": "code",
   "execution_count": 87,
   "id": "f24dd763",
   "metadata": {},
   "outputs": [
    {
     "name": "stdout",
     "output_type": "stream",
     "text": [
      "Fitting 4 folds for each of 30 candidates, totalling 120 fits\n"
     ]
    },
    {
     "data": {
      "text/plain": [
       "GridSearchCV(cv=KFold(n_splits=4, random_state=42, shuffle=True),\n",
       "             estimator=LogisticRegression(), n_jobs=-1,\n",
       "             param_grid={'class_weight': ['balanced'],\n",
       "                         'max_iter': [20, 50, 100, 200, 500, 1000],\n",
       "                         'solver': ['newton-cg', 'lbfgs', 'liblinear', 'sag',\n",
       "                                    'saga']},\n",
       "             verbose=1)"
      ]
     },
     "execution_count": 87,
     "metadata": {},
     "output_type": "execute_result"
    }
   ],
   "source": [
    "log_reg_grid_search.fit(X_train, y_train) "
   ]
  },
  {
   "cell_type": "code",
   "execution_count": 88,
   "id": "db513ba9",
   "metadata": {},
   "outputs": [
    {
     "name": "stdout",
     "output_type": "stream",
     "text": [
      "The best test score is 0.7820335809052243 corresponding to hyperparameters {'class_weight': 'balanced', 'max_iter': 20, 'solver': 'newton-cg'}\n"
     ]
    }
   ],
   "source": [
    "best_score = log_reg_grid_search.best_score_\n",
    "best_hyperparams = log_reg_grid_search.best_params_\n",
    "\n",
    "print(\"The best test score is {0} corresponding to hyperparameters {1}\".format\n",
    "      (best_score, best_hyperparams))"
   ]
  },
  {
   "cell_type": "code",
   "execution_count": 89,
   "id": "aed24aa1",
   "metadata": {},
   "outputs": [
    {
     "name": "stdout",
     "output_type": "stream",
     "text": [
      "Training set score for Logistic Regression tunned: 0.7904\n",
      "Test set score for Logistic Regression tunned: 0.7809\n"
     ]
    }
   ],
   "source": [
    "best_params = {'class_weight': 'balanced', 'max_iter': 20,  'solver': 'newton-cg'}\n",
    "\n",
    "# model\n",
    "log_mod_2 = LogisticRegression(class_weight= 'balanced', max_iter= 20,  solver= 'newton-cg')\n",
    "\n",
    "log_mod_2.fit(X_train, y_train.values.ravel())\n",
    "log_mod_y_pred_2 = log_mod_2.predict(X_test)\n",
    "\n",
    "print('Training set score for Logistic Regression tunned: {:.4f}'.format(log_mod_2.score(X_train, y_train)))\n",
    "print('Test set score for Logistic Regression tunned: {:.4f}'.format(log_mod_2.score(X_test, y_test)))"
   ]
  },
  {
   "cell_type": "code",
   "execution_count": 90,
   "id": "3ea611b4",
   "metadata": {},
   "outputs": [],
   "source": [
    "log_mod_2_accuracy = metrics.accuracy_score(y_test, log_mod_y_pred_2)\n",
    "log_mod_2_precision = metrics.precision_score(y_test, log_mod_y_pred_2)\n",
    "log_mod_2_recall = metrics.recall_score(y_test, log_mod_y_pred_2)\n",
    "log_mod_2_f1 = metrics.f1_score(y_test, log_mod_y_pred_2)"
   ]
  },
  {
   "cell_type": "code",
   "execution_count": 91,
   "id": "10282bd9",
   "metadata": {},
   "outputs": [
    {
     "name": "stdout",
     "output_type": "stream",
     "text": [
      "              precision    recall  f1-score   support\n",
      "\n",
      "           0       0.87      0.75      0.81       109\n",
      "           1       0.68      0.83      0.75        69\n",
      "\n",
      "    accuracy                           0.78       178\n",
      "   macro avg       0.78      0.79      0.78       178\n",
      "weighted avg       0.80      0.78      0.78       178\n",
      "\n",
      "[[82 27]\n",
      " [12 57]]\n"
     ]
    }
   ],
   "source": [
    "# printing out Classification Matrix and Confusion matrix\n",
    "\n",
    "print(classification_report(y_test, log_mod_y_pred_2))\n",
    "print(metrics.confusion_matrix(y_test, log_mod_y_pred_2))"
   ]
  },
  {
   "cell_type": "code",
   "execution_count": 92,
   "id": "77972f92",
   "metadata": {},
   "outputs": [
    {
     "data": {
      "text/plain": [
       "Text(0.5, 1.0, 'Confusion Matrix for Logistic Regression Tunned Model')"
      ]
     },
     "execution_count": 92,
     "metadata": {},
     "output_type": "execute_result"
    },
    {
     "data": {
      "image/png": "[encoded data removed]",
      "text/plain": [
       "<Figure size 720x432 with 2 Axes>"
      ]
     },
     "metadata": {},
     "output_type": "display_data"
    }
   ],
   "source": [
    "cm = confusion_matrix(y_test, log_mod_y_pred_2)\n",
    "colors = [\"#bdbdbd\", \"#636363\"]\n",
    "sns.set_palette(sns.color_palette(colors))\n",
    "sns.heatmap(cm, annot=True, fmt='g', cmap='mako')\n",
    "plt.title('Confusion Matrix for Logistic Regression Tunned Model', fontsize=18)"
   ]
  },
  {
   "cell_type": "code",
   "execution_count": 93,
   "id": "77c83559",
   "metadata": {},
   "outputs": [
    {
     "data": {
      "text/html": [
       "<div>\n",
       "<style scoped>\n",
       "    .dataframe tbody tr th:only-of-type {\n",
       "        vertical-align: middle;\n",
       "    }\n",
       "\n",
       "    .dataframe tbody tr th {\n",
       "        vertical-align: top;\n",
       "    }\n",
       "\n",
       "    .dataframe thead th {\n",
       "        text-align: right;\n",
       "    }\n",
       "</style>\n",
       "<table border=\"1\" class=\"dataframe\">\n",
       "  <thead>\n",
       "    <tr style=\"text-align: right;\">\n",
       "      <th></th>\n",
       "      <th>Model</th>\n",
       "      <th>Accuracy Score</th>\n",
       "      <th>Precision</th>\n",
       "      <th>Recall</th>\n",
       "      <th>F1 Score</th>\n",
       "    </tr>\n",
       "  </thead>\n",
       "  <tbody>\n",
       "    <tr>\n",
       "      <th>0</th>\n",
       "      <td>Log_Reg_2</td>\n",
       "      <td>0.780899</td>\n",
       "      <td>0.678571</td>\n",
       "      <td>0.826087</td>\n",
       "      <td>0.745098</td>\n",
       "    </tr>\n",
       "    <tr>\n",
       "      <th>1</th>\n",
       "      <td>Log_Reg</td>\n",
       "      <td>0.769663</td>\n",
       "      <td>0.679487</td>\n",
       "      <td>0.768116</td>\n",
       "      <td>0.721088</td>\n",
       "    </tr>\n",
       "  </tbody>\n",
       "</table>\n",
       "</div>"
      ],
      "text/plain": [
       "       Model  Accuracy Score  Precision    Recall  F1 Score\n",
       "0  Log_Reg_2        0.780899   0.678571  0.826087  0.745098\n",
       "1    Log_Reg        0.769663   0.679487  0.768116  0.721088"
      ]
     },
     "execution_count": 93,
     "metadata": {},
     "output_type": "execute_result"
    }
   ],
   "source": [
    "Model_Comparison = pd.DataFrame({\n",
    "'Model' : ['Log_Reg', 'Log_Reg_2'],\n",
    "'Accuracy Score' : [log_mod_accuracy, log_mod_2_accuracy],\n",
    "'Precision' : [log_mod_precision, log_mod_2_precision],\n",
    "'Recall': [log_mod_recall, log_mod_2_recall],\n",
    "'F1 Score': [log_mod_f1, log_mod_2_f1]})\n",
    "Model_Comparison_df = Model_Comparison.sort_values(by='Accuracy Score', ascending=False)\n",
    "Model_Comparison_df = Model_Comparison_df.set_index('Model')\n",
    "Model_Comparison_df.reset_index()"
   ]
  },
  {
   "cell_type": "markdown",
   "id": "2a600394",
   "metadata": {},
   "source": [
    "#### 3. Random Forest Tunned"
   ]
  },
  {
   "cell_type": "markdown",
   "id": "26d0ac7e",
   "metadata": {},
   "source": [
    "Define parameters:"
   ]
  },
  {
   "cell_type": "code",
   "execution_count": 94,
   "id": "0bf3e084",
   "metadata": {},
   "outputs": [],
   "source": [
    "param_grid = {\n",
    "    \"n_estimators\":[100,200,300],\n",
    "    \"max_depth\":[10, 50, 100],\n",
    "    \"max_features\":[6,8,10,12,14,16]\n",
    "}\n",
    "folds = KFold(n_splits = 4, shuffle = True, random_state = 42)\n",
    "RF_mod_2 = RandomForestClassifier()"
   ]
  },
  {
   "cell_type": "code",
   "execution_count": 95,
   "id": "ecafcd54",
   "metadata": {},
   "outputs": [
    {
     "name": "stdout",
     "output_type": "stream",
     "text": [
      "Fitting 4 folds for each of 54 candidates, totalling 216 fits\n"
     ]
    },
    {
     "data": {
      "text/plain": [
       "GridSearchCV(cv=KFold(n_splits=4, random_state=42, shuffle=True),\n",
       "             estimator=RandomForestClassifier(), n_jobs=-1,\n",
       "             param_grid={'max_depth': [10, 50, 100],\n",
       "                         'max_features': [6, 8, 10, 12, 14, 16],\n",
       "                         'n_estimators': [100, 200, 300]},\n",
       "             verbose=2)"
      ]
     },
     "execution_count": 95,
     "metadata": {},
     "output_type": "execute_result"
    }
   ],
   "source": [
    "rf_reg_tuned = GridSearchCV(estimator=RF_mod_2,\n",
    "                            param_grid=param_grid,\n",
    "                            cv=folds,\n",
    "                            n_jobs=-1,\n",
    "                            verbose=2)\n",
    "\n",
    "rf_reg_tuned.fit(X_train, y_train)"
   ]
  },
  {
   "cell_type": "code",
   "execution_count": 96,
   "id": "82e81954",
   "metadata": {},
   "outputs": [
    {
     "name": "stdout",
     "output_type": "stream",
     "text": [
      "The best test score is 0.8368485367866438 corresponding to hyperparameters {'max_depth': 10, 'max_features': 6, 'n_estimators': 300}\n"
     ]
    }
   ],
   "source": [
    "best_score = rf_reg_tuned.best_score_\n",
    "best_hyperparams = rf_reg_tuned.best_params_\n",
    "\n",
    "print(\"The best test score is {0} corresponding to hyperparameters {1}\".format\n",
    "      (best_score, best_hyperparams))"
   ]
  },
  {
   "cell_type": "code",
   "execution_count": 97,
   "id": "603c500a",
   "metadata": {},
   "outputs": [
    {
     "name": "stdout",
     "output_type": "stream",
     "text": [
      "Training set score for Random Forest tunned: 0.9648\n",
      "Test set score for Random Forest tunned: 0.7978\n"
     ]
    }
   ],
   "source": [
    "best_params = {'max_depth': 10, 'max_features': 6, 'n_estimators': 100}\n",
    "\n",
    "# model\n",
    "RF_mod_2 = RandomForestClassifier(max_depth= 10, max_features= 6,  n_estimators= 100)\n",
    "\n",
    "RF_mod_2.fit(X_train, y_train.values.ravel())\n",
    "RF_mod_y_pred_2 = RF_mod_2.predict(X_test)\n",
    "\n",
    "print('Training set score for Random Forest tunned: {:.4f}'.format(RF_mod_2.score(X_train, y_train)))\n",
    "print('Test set score for Random Forest tunned: {:.4f}'.format(RF_mod_2.score(X_test, y_test)))"
   ]
  },
  {
   "cell_type": "code",
   "execution_count": 98,
   "id": "58bb0734",
   "metadata": {},
   "outputs": [],
   "source": [
    "RF_mod_2_accuracy = metrics.accuracy_score(y_test, RF_mod_y_pred_2)\n",
    "RF_mod_2_precision = metrics.precision_score(y_test, RF_mod_y_pred_2)\n",
    "RF_mod_2_recall = metrics.recall_score(y_test, RF_mod_y_pred_2)\n",
    "RF_mod_2_f1 = metrics.f1_score(y_test, RF_mod_y_pred_2)\n"
   ]
  },
  {
   "cell_type": "code",
   "execution_count": 99,
   "id": "1d45da61",
   "metadata": {},
   "outputs": [
    {
     "name": "stdout",
     "output_type": "stream",
     "text": [
      "              precision    recall  f1-score   support\n",
      "\n",
      "           0       0.83      0.84      0.84       109\n",
      "           1       0.75      0.72      0.74        69\n",
      "\n",
      "    accuracy                           0.80       178\n",
      "   macro avg       0.79      0.78      0.79       178\n",
      "weighted avg       0.80      0.80      0.80       178\n",
      "\n",
      "[[92 17]\n",
      " [19 50]]\n"
     ]
    }
   ],
   "source": [
    "# printing out Classification Matrix and Confusion matrix\n",
    "\n",
    "print(classification_report(y_test, RF_mod_y_pred_2))\n",
    "print(metrics.confusion_matrix(y_test, RF_mod_y_pred_2))"
   ]
  },
  {
   "cell_type": "code",
   "execution_count": 100,
   "id": "1f87b585",
   "metadata": {},
   "outputs": [
    {
     "data": {
      "text/plain": [
       "Text(0.5, 1.0, 'Confusion Matrix for Random Forest Tunned Model')"
      ]
     },
     "execution_count": 100,
     "metadata": {},
     "output_type": "execute_result"
    },
    {
     "data": {
      "image/png": "[encoded data removed]",
      "text/plain": [
       "<Figure size 720x432 with 2 Axes>"
      ]
     },
     "metadata": {},
     "output_type": "display_data"
    }
   ],
   "source": [
    "cm = confusion_matrix(y_test, RF_mod_y_pred_2)\n",
    "colors = [\"#bdbdbd\", \"#636363\"]\n",
    "sns.set_palette(sns.color_palette(colors))\n",
    "sns.heatmap(cm, annot=True, fmt='g', cmap='mako')\n",
    "plt.title('Confusion Matrix for Random Forest Tunned Model', fontsize=18)"
   ]
  },
  {
   "cell_type": "code",
   "execution_count": 101,
   "id": "549dfa20",
   "metadata": {},
   "outputs": [
    {
     "data": {
      "text/html": [
       "<div>\n",
       "<style scoped>\n",
       "    .dataframe tbody tr th:only-of-type {\n",
       "        vertical-align: middle;\n",
       "    }\n",
       "\n",
       "    .dataframe tbody tr th {\n",
       "        vertical-align: top;\n",
       "    }\n",
       "\n",
       "    .dataframe thead th {\n",
       "        text-align: right;\n",
       "    }\n",
       "</style>\n",
       "<table border=\"1\" class=\"dataframe\">\n",
       "  <thead>\n",
       "    <tr style=\"text-align: right;\">\n",
       "      <th></th>\n",
       "      <th>Model</th>\n",
       "      <th>Accuracy Score</th>\n",
       "      <th>Precision</th>\n",
       "      <th>Recall</th>\n",
       "      <th>F1 Score</th>\n",
       "    </tr>\n",
       "  </thead>\n",
       "  <tbody>\n",
       "    <tr>\n",
       "      <th>0</th>\n",
       "      <td>RF_Reg_2</td>\n",
       "      <td>0.797753</td>\n",
       "      <td>0.746269</td>\n",
       "      <td>0.724638</td>\n",
       "      <td>0.735294</td>\n",
       "    </tr>\n",
       "    <tr>\n",
       "      <th>1</th>\n",
       "      <td>RF_Reg</td>\n",
       "      <td>0.792135</td>\n",
       "      <td>0.750000</td>\n",
       "      <td>0.695652</td>\n",
       "      <td>0.721805</td>\n",
       "    </tr>\n",
       "  </tbody>\n",
       "</table>\n",
       "</div>"
      ],
      "text/plain": [
       "      Model  Accuracy Score  Precision    Recall  F1 Score\n",
       "0  RF_Reg_2        0.797753   0.746269  0.724638  0.735294\n",
       "1    RF_Reg        0.792135   0.750000  0.695652  0.721805"
      ]
     },
     "execution_count": 101,
     "metadata": {},
     "output_type": "execute_result"
    }
   ],
   "source": [
    "Model_Comparison = pd.DataFrame({\n",
    "'Model' : ['RF_Reg', 'RF_Reg_2'],\n",
    "'Accuracy Score' : [RF_mod_accuracy, RF_mod_2_accuracy],\n",
    "'Precision' : [RF_mod_precision, RF_mod_2_precision],\n",
    "'Recall': [RF_mod_recall, RF_mod_2_recall],\n",
    "'F1 Score': [RF_mod_f1, RF_mod_2_f1]})\n",
    "Model_Comparison_df = Model_Comparison.sort_values(by='Accuracy Score', ascending=False)\n",
    "Model_Comparison_df = Model_Comparison_df.set_index('Model')\n",
    "Model_Comparison_df.reset_index()"
   ]
  },
  {
   "cell_type": "markdown",
   "id": "cf777873",
   "metadata": {},
   "source": [
    "#### 4.  KNN neighbors tunned"
   ]
  },
  {
   "cell_type": "markdown",
   "id": "7a1247d5",
   "metadata": {},
   "source": [
    "Defining parameters;"
   ]
  },
  {
   "cell_type": "code",
   "execution_count": 102,
   "id": "fe1bf131",
   "metadata": {},
   "outputs": [],
   "source": [
    "leaf_size = list(range(1,50))\n",
    "n_neighbors = list(range(1,30))\n",
    "p=[1,2]\n",
    "\n",
    "param_grid = dict(leaf_size=leaf_size, n_neighbors=n_neighbors, p=p)\n",
    "\n",
    "folds = KFold(n_splits = 4, shuffle = True, random_state = 42)\n",
    "KNN_mod_2 = KNeighborsClassifier()"
   ]
  },
  {
   "cell_type": "code",
   "execution_count": 103,
   "id": "ff8fdc33",
   "metadata": {},
   "outputs": [
    {
     "name": "stdout",
     "output_type": "stream",
     "text": [
      "Fitting 4 folds for each of 2842 candidates, totalling 11368 fits\n"
     ]
    },
    {
     "data": {
      "text/plain": [
       "GridSearchCV(cv=KFold(n_splits=4, random_state=42, shuffle=True),\n",
       "             estimator=KNeighborsClassifier(), n_jobs=-1,\n",
       "             param_grid={'leaf_size': [1, 2, 3, 4, 5, 6, 7, 8, 9, 10, 11, 12,\n",
       "                                       13, 14, 15, 16, 17, 18, 19, 20, 21, 22,\n",
       "                                       23, 24, 25, 26, 27, 28, 29, 30, ...],\n",
       "                         'n_neighbors': [1, 2, 3, 4, 5, 6, 7, 8, 9, 10, 11, 12,\n",
       "                                         13, 14, 15, 16, 17, 18, 19, 20, 21, 22,\n",
       "                                         23, 24, 25, 26, 27, 28, 29],\n",
       "                         'p': [1, 2]},\n",
       "             verbose=2)"
      ]
     },
     "execution_count": 103,
     "metadata": {},
     "output_type": "execute_result"
    }
   ],
   "source": [
    "KNN_tuned = GridSearchCV(estimator=KNN_mod_2,\n",
    "                            param_grid=param_grid,\n",
    "                            cv=folds,\n",
    "                            n_jobs=-1,\n",
    "                            verbose=2)\n",
    "\n",
    "KNN_tuned.fit(X_train, y_train)"
   ]
  },
  {
   "cell_type": "code",
   "execution_count": 104,
   "id": "ff38d653",
   "metadata": {},
   "outputs": [
    {
     "name": "stdout",
     "output_type": "stream",
     "text": [
      "The best test score is 0.8354440424046213 corresponding to hyperparameters {'leaf_size': 1, 'n_neighbors': 9, 'p': 1}\n"
     ]
    }
   ],
   "source": [
    "best_score = KNN_tuned.best_score_\n",
    "best_hyperparams = KNN_tuned.best_params_\n",
    "\n",
    "print(\"The best test score is {0} corresponding to hyperparameters {1}\".format\n",
    "      (best_score, best_hyperparams))"
   ]
  },
  {
   "cell_type": "code",
   "execution_count": 105,
   "id": "cede92f7",
   "metadata": {},
   "outputs": [
    {
     "name": "stdout",
     "output_type": "stream",
     "text": [
      "Training set score for KNN Neighbors tunned: 0.8523\n",
      "Test set score for KNN Neighbors tunned: 0.7865\n"
     ]
    }
   ],
   "source": [
    "best_params = {'leaf_size': 1, 'n_neighbors': 10, 'p': 1}\n",
    "\n",
    "# model\n",
    "KNN_mod_2 = KNeighborsClassifier(leaf_size= 1, n_neighbors= 10,  p= 1)\n",
    "\n",
    "KNN_mod_2.fit(X_train, y_train.values.ravel())\n",
    "KNN_mod_y_pred_2 = KNN_mod_2.predict(X_test)\n",
    "\n",
    "print('Training set score for KNN Neighbors tunned: {:.4f}'.format(KNN_mod_2.score(X_train, y_train)))\n",
    "print('Test set score for KNN Neighbors tunned: {:.4f}'.format(KNN_mod_2.score(X_test, y_test)))"
   ]
  },
  {
   "cell_type": "code",
   "execution_count": 106,
   "id": "9d95b33f",
   "metadata": {},
   "outputs": [],
   "source": [
    "KNN_mod_2_accuracy = metrics.accuracy_score(y_test, KNN_mod_y_pred_2)\n",
    "KNN_mod_2_precision = metrics.precision_score(y_test, KNN_mod_y_pred_2)\n",
    "KNN_mod_2_recall = metrics.recall_score(y_test, KNN_mod_y_pred_2)\n",
    "KNN_mod_2_f1 = metrics.f1_score(y_test, KNN_mod_y_pred_2)"
   ]
  },
  {
   "cell_type": "code",
   "execution_count": 107,
   "id": "83ccbff6",
   "metadata": {},
   "outputs": [
    {
     "name": "stdout",
     "output_type": "stream",
     "text": [
      "              precision    recall  f1-score   support\n",
      "\n",
      "           0       0.81      0.84      0.83       109\n",
      "           1       0.74      0.70      0.72        69\n",
      "\n",
      "    accuracy                           0.79       178\n",
      "   macro avg       0.78      0.77      0.77       178\n",
      "weighted avg       0.78      0.79      0.79       178\n",
      "\n",
      "[[92 17]\n",
      " [21 48]]\n"
     ]
    }
   ],
   "source": [
    "# printing out Classification Matrix and Confusion matrix\n",
    "\n",
    "print(classification_report(y_test, KNN_mod_y_pred_2))\n",
    "print(metrics.confusion_matrix(y_test, KNN_mod_y_pred_2))"
   ]
  },
  {
   "cell_type": "code",
   "execution_count": 108,
   "id": "3ecc88e9",
   "metadata": {},
   "outputs": [
    {
     "data": {
      "text/plain": [
       "Text(0.5, 1.0, 'Confusion Matrix for KNN Neighbors Tunned Model')"
      ]
     },
     "execution_count": 108,
     "metadata": {},
     "output_type": "execute_result"
    },
    {
     "data": {
      "image/png": "[encoded data removed]",
      "text/plain": [
       "<Figure size 720x432 with 2 Axes>"
      ]
     },
     "metadata": {},
     "output_type": "display_data"
    }
   ],
   "source": [
    "cm = confusion_matrix(y_test, KNN_mod_y_pred_2)\n",
    "colors = [\"#bdbdbd\", \"#636363\"]\n",
    "sns.set_palette(sns.color_palette(colors))\n",
    "sns.heatmap(cm, annot=True, fmt='g', cmap='mako')\n",
    "plt.title('Confusion Matrix for KNN Neighbors Tunned Model', fontsize=18)"
   ]
  },
  {
   "cell_type": "code",
   "execution_count": 109,
   "id": "2f3467bd",
   "metadata": {},
   "outputs": [
    {
     "data": {
      "text/html": [
       "<div>\n",
       "<style scoped>\n",
       "    .dataframe tbody tr th:only-of-type {\n",
       "        vertical-align: middle;\n",
       "    }\n",
       "\n",
       "    .dataframe tbody tr th {\n",
       "        vertical-align: top;\n",
       "    }\n",
       "\n",
       "    .dataframe thead th {\n",
       "        text-align: right;\n",
       "    }\n",
       "</style>\n",
       "<table border=\"1\" class=\"dataframe\">\n",
       "  <thead>\n",
       "    <tr style=\"text-align: right;\">\n",
       "      <th></th>\n",
       "      <th>Model</th>\n",
       "      <th>Accuracy Score</th>\n",
       "      <th>Precision</th>\n",
       "      <th>Recall</th>\n",
       "      <th>F1 Score</th>\n",
       "    </tr>\n",
       "  </thead>\n",
       "  <tbody>\n",
       "    <tr>\n",
       "      <th>0</th>\n",
       "      <td>KNN</td>\n",
       "      <td>0.797753</td>\n",
       "      <td>0.732394</td>\n",
       "      <td>0.753623</td>\n",
       "      <td>0.742857</td>\n",
       "    </tr>\n",
       "    <tr>\n",
       "      <th>1</th>\n",
       "      <td>KNN_2</td>\n",
       "      <td>0.786517</td>\n",
       "      <td>0.738462</td>\n",
       "      <td>0.695652</td>\n",
       "      <td>0.716418</td>\n",
       "    </tr>\n",
       "  </tbody>\n",
       "</table>\n",
       "</div>"
      ],
      "text/plain": [
       "   Model  Accuracy Score  Precision    Recall  F1 Score\n",
       "0    KNN        0.797753   0.732394  0.753623  0.742857\n",
       "1  KNN_2        0.786517   0.738462  0.695652  0.716418"
      ]
     },
     "execution_count": 109,
     "metadata": {},
     "output_type": "execute_result"
    }
   ],
   "source": [
    "Model_Comparison = pd.DataFrame({\n",
    "'Model' : ['KNN', 'KNN_2'],\n",
    "'Accuracy Score' : [knn_mod_accuracy, KNN_mod_2_accuracy],\n",
    "'Precision' : [knn_mod_precision, KNN_mod_2_precision],\n",
    "'Recall': [knn_mod_recall, KNN_mod_2_recall],\n",
    "'F1 Score': [knn_mod_f1, KNN_mod_2_f1]})\n",
    "Model_Comparison_df = Model_Comparison.sort_values(by='Accuracy Score', ascending=False)\n",
    "Model_Comparison_df = Model_Comparison_df.set_index('Model')\n",
    "Model_Comparison_df.reset_index()"
   ]
  },
  {
   "cell_type": "markdown",
   "id": "9b7b9b97",
   "metadata": {},
   "source": [
    "### All models comparison:"
   ]
  },
  {
   "cell_type": "code",
   "execution_count": 110,
   "id": "56f5ece2",
   "metadata": {},
   "outputs": [
    {
     "data": {
      "text/html": [
       "<div>\n",
       "<style scoped>\n",
       "    .dataframe tbody tr th:only-of-type {\n",
       "        vertical-align: middle;\n",
       "    }\n",
       "\n",
       "    .dataframe tbody tr th {\n",
       "        vertical-align: top;\n",
       "    }\n",
       "\n",
       "    .dataframe thead th {\n",
       "        text-align: right;\n",
       "    }\n",
       "</style>\n",
       "<table border=\"1\" class=\"dataframe\">\n",
       "  <thead>\n",
       "    <tr style=\"text-align: right;\">\n",
       "      <th></th>\n",
       "      <th>Model</th>\n",
       "      <th>Accuracy Score</th>\n",
       "      <th>Precision</th>\n",
       "      <th>Recall</th>\n",
       "      <th>F1 Score</th>\n",
       "    </tr>\n",
       "  </thead>\n",
       "  <tbody>\n",
       "    <tr>\n",
       "      <th>0</th>\n",
       "      <td>SVM Tunned</td>\n",
       "      <td>0.808989</td>\n",
       "      <td>0.753623</td>\n",
       "      <td>0.753623</td>\n",
       "      <td>0.753623</td>\n",
       "    </tr>\n",
       "    <tr>\n",
       "      <th>1</th>\n",
       "      <td>KNNneighbors</td>\n",
       "      <td>0.797753</td>\n",
       "      <td>0.732394</td>\n",
       "      <td>0.753623</td>\n",
       "      <td>0.742857</td>\n",
       "    </tr>\n",
       "    <tr>\n",
       "      <th>2</th>\n",
       "      <td>SVM</td>\n",
       "      <td>0.797753</td>\n",
       "      <td>0.726027</td>\n",
       "      <td>0.768116</td>\n",
       "      <td>0.746479</td>\n",
       "    </tr>\n",
       "    <tr>\n",
       "      <th>3</th>\n",
       "      <td>Random Forest Tunned</td>\n",
       "      <td>0.797753</td>\n",
       "      <td>0.746269</td>\n",
       "      <td>0.724638</td>\n",
       "      <td>0.735294</td>\n",
       "    </tr>\n",
       "    <tr>\n",
       "      <th>4</th>\n",
       "      <td>Random Forest</td>\n",
       "      <td>0.792135</td>\n",
       "      <td>0.750000</td>\n",
       "      <td>0.695652</td>\n",
       "      <td>0.721805</td>\n",
       "    </tr>\n",
       "    <tr>\n",
       "      <th>5</th>\n",
       "      <td>KNN Tunned</td>\n",
       "      <td>0.786517</td>\n",
       "      <td>0.738462</td>\n",
       "      <td>0.695652</td>\n",
       "      <td>0.716418</td>\n",
       "    </tr>\n",
       "    <tr>\n",
       "      <th>6</th>\n",
       "      <td>Log Reg Tunned</td>\n",
       "      <td>0.780899</td>\n",
       "      <td>0.678571</td>\n",
       "      <td>0.768116</td>\n",
       "      <td>0.745098</td>\n",
       "    </tr>\n",
       "    <tr>\n",
       "      <th>7</th>\n",
       "      <td>Naive Bayes</td>\n",
       "      <td>0.775281</td>\n",
       "      <td>0.688312</td>\n",
       "      <td>0.768116</td>\n",
       "      <td>0.726027</td>\n",
       "    </tr>\n",
       "    <tr>\n",
       "      <th>8</th>\n",
       "      <td>Log Reg</td>\n",
       "      <td>0.769663</td>\n",
       "      <td>0.679487</td>\n",
       "      <td>0.768116</td>\n",
       "      <td>0.721088</td>\n",
       "    </tr>\n",
       "    <tr>\n",
       "      <th>9</th>\n",
       "      <td>Decision Tree</td>\n",
       "      <td>0.752809</td>\n",
       "      <td>0.676056</td>\n",
       "      <td>0.695652</td>\n",
       "      <td>0.685714</td>\n",
       "    </tr>\n",
       "  </tbody>\n",
       "</table>\n",
       "</div>"
      ],
      "text/plain": [
       "                  Model  Accuracy Score  Precision    Recall  F1 Score\n",
       "0            SVM Tunned        0.808989   0.753623  0.753623  0.753623\n",
       "1          KNNneighbors        0.797753   0.732394  0.753623  0.742857\n",
       "2                   SVM        0.797753   0.726027  0.768116  0.746479\n",
       "3  Random Forest Tunned        0.797753   0.746269  0.724638  0.735294\n",
       "4         Random Forest        0.792135   0.750000  0.695652  0.721805\n",
       "5            KNN Tunned        0.786517   0.738462  0.695652  0.716418\n",
       "6        Log Reg Tunned        0.780899   0.678571  0.768116  0.745098\n",
       "7           Naive Bayes        0.775281   0.688312  0.768116  0.726027\n",
       "8               Log Reg        0.769663   0.679487  0.768116  0.721088\n",
       "9         Decision Tree        0.752809   0.676056  0.695652  0.685714"
      ]
     },
     "execution_count": 110,
     "metadata": {},
     "output_type": "execute_result"
    }
   ],
   "source": [
    "Model_Comparison = pd.DataFrame({\n",
    "'Model' : ['Log Reg', 'KNNneighbors', 'SVM', 'Naive Bayes', 'Decision Tree','Random Forest',\n",
    "          'Log Reg Tunned', 'KNN Tunned', 'SVM Tunned', 'Random Forest Tunned'],\n",
    "'Accuracy Score' : [log_mod_accuracy, knn_mod_accuracy, svc_mod_accuracy,\n",
    "                   gaus_mod_accuracy, DT_mod_accuracy, RF_mod_accuracy, log_mod_2_accuracy, \n",
    "                    KNN_mod_2_accuracy, svc_mod_2_accuracy, RF_mod_2_accuracy],\n",
    "'Precision' : [log_mod_precision, knn_mod_precision, svc_mod_precision,\n",
    "              gaus_mod_precision, DT_mod_precision, RF_mod_precision,\n",
    "              log_mod_2_precision, KNN_mod_2_precision, svc_mod_2_precision, RF_mod_2_precision],\n",
    "'Recall': [log_mod_recall, knn_mod_recall, svc_mod_recall,\n",
    "          gaus_mod_recall, DT_mod_recall, RF_mod_recall,\n",
    "          log_mod_recall, KNN_mod_2_recall, svc_mod_2_recall, RF_mod_2_recall],\n",
    "'F1 Score': [log_mod_f1, knn_mod_f1, svc_mod_f1,\n",
    "            gaus_mod_f1, DT_mod_f1, RF_mod_f1,\n",
    "            log_mod_2_f1, KNN_mod_2_f1, svc_mod_2_f1, RF_mod_2_f1]})\n",
    "Model_Comparison_df = Model_Comparison.sort_values(by='Accuracy Score', ascending=False)\n",
    "Model_Comparison_df = Model_Comparison_df.set_index('Model')\n",
    "Model_Comparison_df.reset_index()"
   ]
  },
  {
   "cell_type": "code",
   "execution_count": 111,
   "id": "eb633b5a",
   "metadata": {},
   "outputs": [
    {
     "data": {
      "text/plain": [
       "<AxesSubplot:ylabel='Model'>"
      ]
     },
     "execution_count": 111,
     "metadata": {},
     "output_type": "execute_result"
    },
    {
     "data": {
      "image/png": "[encoded data removed]",
      "text/plain": [
       "<Figure size 720x432 with 2 Axes>"
      ]
     },
     "metadata": {},
     "output_type": "display_data"
    }
   ],
   "source": [
    "sns.set(rc={'figure.figsize':(10,6)})\n",
    "sns.heatmap(Model_Comparison_df, annot=True, cmap='mako')"
   ]
  },
  {
   "cell_type": "code",
   "execution_count": 112,
   "id": "68c3d5c6",
   "metadata": {},
   "outputs": [
    {
     "name": "stdout",
     "output_type": "stream",
     "text": [
      "Your submission was successfully saved!\n"
     ]
    }
   ],
   "source": [
    "y = df_train[\"Survived\"]\n",
    "\n",
    "features = [\"Pclass\", \"Sex\", \"SibSp\", \"Parch\"]\n",
    "X = pd.get_dummies(df_train[features])\n",
    "X_test = pd.get_dummies(df_test[features])\n",
    "\n",
    "model = RandomForestClassifier(n_estimators=100, max_depth=5, random_state=1)\n",
    "model.fit(X, y)\n",
    "predictions = model.predict(X_test)\n",
    "\n",
    "output = pd.DataFrame({'PassengerId': df_test.PassengerId, 'Survived': predictions})\n",
    "output.to_csv('submission.csv', index=False)\n",
    "print(\"Your submission was successfully saved!\")"
   ]
  },
  {
   "cell_type": "code",
   "execution_count": null,
   "id": "a3d5c515",
   "metadata": {},
   "outputs": [],
   "source": []
  }
 ],
 "metadata": {
  "kernelspec": {
   "display_name": "Python 3 (ipykernel)",
   "language": "python",
   "name": "python3"
  },
  "language_info": {
   "codemirror_mode": {
    "name": "ipython",
    "version": 3
   },
   "file_extension": ".py",
   "mimetype": "text/x-python",
   "name": "python",
   "nbconvert_exporter": "python",
   "pygments_lexer": "ipython3",
   "version": "3.8.11"
  }
 },
 "nbformat": 4,
 "nbformat_minor": 5
}
